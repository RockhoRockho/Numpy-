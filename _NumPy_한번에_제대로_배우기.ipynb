{
 "cells": [
  {
   "cell_type": "markdown",
   "metadata": {
    "id": "J_FfQuu2Tb30"
   },
   "source": [
    "# NumPy 한번에 제대로 배우기"
   ]
  },
  {
   "cell_type": "markdown",
   "metadata": {
    "id": "Zgrrh9T2vs8u"
   },
   "source": [
    "\n",
    "\n",
    "---\n",
    "\n"
   ]
  },
  {
   "cell_type": "markdown",
   "metadata": {
    "id": "oR5hNBH-Retd"
   },
   "source": [
    "## NumPy 특징\n",
    "\n",
    "* Numerical Python의 약자\n",
    "* 고성능 과학 계산용 패키지로 강력한 N차원 배열 객체\n",
    "* 범용적 데이터 처리에 사용 가능한 다차원 컨테이너\n",
    "* 정교한 브로드캐스팅(broadcasting) 기능\n",
    "* 파이썬의 자료형 list와 비슷하지만, 더 빠르고 메모리를 효율적으로 관리\n",
    "* 반복문 없이 데이터 배열에 대한 처리를 지원하여 빠르고 편리\n",
    "* 데이터 과학 도구에 대한 생태계의 핵심을 이루고 있음"
   ]
  },
  {
   "cell_type": "code",
   "execution_count": 1,
   "metadata": {
    "id": "R9klTdhLQ564"
   },
   "outputs": [
    {
     "data": {
      "text/plain": [
       "'1.20.1'"
      ]
     },
     "execution_count": 1,
     "metadata": {},
     "output_type": "execute_result"
    }
   ],
   "source": [
    "import numpy as np\n",
    "np.__version__"
   ]
  },
  {
   "cell_type": "markdown",
   "metadata": {
    "id": "2hSWC5ptGyWP"
   },
   "source": [
    "\n",
    "\n",
    "---\n",
    "\n"
   ]
  },
  {
   "cell_type": "markdown",
   "metadata": {
    "id": "1kgkJZFlVUqk"
   },
   "source": [
    "## 배열 생성"
   ]
  },
  {
   "cell_type": "markdown",
   "metadata": {
    "id": "5eQ4sAkMbzm0"
   },
   "source": [
    "### 리스트로 배열 만들기\n"
   ]
  },
  {
   "cell_type": "code",
   "execution_count": 2,
   "metadata": {
    "id": "Mtod2jcPWVvV"
   },
   "outputs": [
    {
     "name": "stdout",
     "output_type": "stream",
     "text": [
      "[1 2 3 4 5]\n",
      "<class 'numpy.ndarray'>\n",
      "(5,)\n",
      "1 2 3 4 5\n",
      "[4 5 6 4 5]\n"
     ]
    }
   ],
   "source": [
    "a1 = np.array([1, 2, 3, 4, 5])\n",
    "print(a1)\n",
    "print(type(a1))\n",
    "print(a1.shape)\n",
    "print(a1[0], a1[1], a1[2], a1[3], a1[4])\n",
    "a1[0] = 4\n",
    "a1[1] = 5\n",
    "a1[2] = 6\n",
    "print(a1)"
   ]
  },
  {
   "cell_type": "code",
   "execution_count": 3,
   "metadata": {
    "id": "vp9tkHH8esXT"
   },
   "outputs": [
    {
     "name": "stdout",
     "output_type": "stream",
     "text": [
      "[[1 2 3]\n",
      " [4 5 6]\n",
      " [7 8 9]]\n",
      "(3, 3)\n",
      "1 5 9\n"
     ]
    }
   ],
   "source": [
    "a2 = np.array([[1, 2, 3], [4, 5, 6], [7, 8, 9]])\n",
    "print(a2)\n",
    "print(a2.shape)\n",
    "print(a2[0, 0], a2[1, 1], a2[2, 2])"
   ]
  },
  {
   "cell_type": "code",
   "execution_count": 4,
   "metadata": {
    "id": "Baj4gZ2meuJu"
   },
   "outputs": [
    {
     "name": "stdout",
     "output_type": "stream",
     "text": [
      "[[[1 2 3]\n",
      "  [4 5 6]\n",
      "  [7 8 9]]\n",
      "\n",
      " [[1 2 3]\n",
      "  [4 5 6]\n",
      "  [7 8 9]]\n",
      "\n",
      " [[1 2 3]\n",
      "  [4 5 6]\n",
      "  [7 8 9]]]\n",
      "(3, 3, 3)\n"
     ]
    }
   ],
   "source": [
    "a3 = np.array([ [ [1, 2, 3], [4, 5, 6], [7, 8, 9] ],\n",
    "              [ [1, 2, 3], [4, 5, 6], [7, 8, 9] ],\n",
    "              [ [1, 2, 3], [4, 5, 6], [7, 8, 9] ] ])\n",
    "print(a3)\n",
    "print(a3.shape)"
   ]
  },
  {
   "cell_type": "markdown",
   "metadata": {
    "id": "PNkKtw4CoSDB"
   },
   "source": [
    "### 배열 생성 및 초기화"
   ]
  },
  {
   "cell_type": "markdown",
   "metadata": {
    "id": "mJVii5p_VfgM"
   },
   "source": [
    "* `zeros()`: 모든 요소를 0으로 초기화"
   ]
  },
  {
   "cell_type": "code",
   "execution_count": 5,
   "metadata": {
    "id": "W_SF1tVoVTf1"
   },
   "outputs": [
    {
     "data": {
      "text/plain": [
       "array([0., 0., 0., 0., 0., 0., 0., 0., 0., 0.])"
      ]
     },
     "execution_count": 5,
     "metadata": {},
     "output_type": "execute_result"
    }
   ],
   "source": [
    "np.zeros(10)"
   ]
  },
  {
   "cell_type": "markdown",
   "metadata": {
    "id": "LjYFQrODVqhX"
   },
   "source": [
    "* `ones()`: 모든 요소를 1로 초기화"
   ]
  },
  {
   "cell_type": "code",
   "execution_count": 6,
   "metadata": {
    "id": "MURoqsMsVeUw"
   },
   "outputs": [
    {
     "data": {
      "text/plain": [
       "array([[1., 1., 1.],\n",
       "       [1., 1., 1.],\n",
       "       [1., 1., 1.]])"
      ]
     },
     "execution_count": 6,
     "metadata": {},
     "output_type": "execute_result"
    }
   ],
   "source": [
    "np.ones((3, 3))"
   ]
  },
  {
   "cell_type": "markdown",
   "metadata": {
    "id": "jnmm3Cj-cGtx"
   },
   "source": [
    "* `full()`: 모든 요소를 지정한 값으로 초기화"
   ]
  },
  {
   "cell_type": "code",
   "execution_count": 7,
   "metadata": {
    "id": "oscabrdcV7Ny"
   },
   "outputs": [
    {
     "data": {
      "text/plain": [
       "array([[1.23, 1.23, 1.23],\n",
       "       [1.23, 1.23, 1.23],\n",
       "       [1.23, 1.23, 1.23]])"
      ]
     },
     "execution_count": 7,
     "metadata": {},
     "output_type": "execute_result"
    }
   ],
   "source": [
    "np.full((3, 3), 1.23)"
   ]
  },
  {
   "cell_type": "markdown",
   "metadata": {
    "id": "0SRI4jbmlIKc"
   },
   "source": [
    "* `eye()`: 단위행렬(identity matrix) 생성\n",
    "  + 주대각선의 원소가 모두 1이고 나머지 원소는 모두 0인 정사각 행렬"
   ]
  },
  {
   "cell_type": "code",
   "execution_count": 8,
   "metadata": {
    "id": "VceBVLLjk9o5"
   },
   "outputs": [
    {
     "data": {
      "text/plain": [
       "array([[1., 0., 0.],\n",
       "       [0., 1., 0.],\n",
       "       [0., 0., 1.]])"
      ]
     },
     "execution_count": 8,
     "metadata": {},
     "output_type": "execute_result"
    }
   ],
   "source": [
    "np.eye(3)"
   ]
  },
  {
   "cell_type": "markdown",
   "metadata": {
    "id": "7CCH1ZMT5R02"
   },
   "source": [
    "* `tri()`: 삼각행렬 생성"
   ]
  },
  {
   "cell_type": "code",
   "execution_count": 9,
   "metadata": {
    "id": "mLe2Bhj05VYu"
   },
   "outputs": [
    {
     "data": {
      "text/plain": [
       "array([[1., 0., 0.],\n",
       "       [1., 1., 0.],\n",
       "       [1., 1., 1.]])"
      ]
     },
     "execution_count": 9,
     "metadata": {},
     "output_type": "execute_result"
    }
   ],
   "source": [
    "np.tri(3)"
   ]
  },
  {
   "cell_type": "markdown",
   "metadata": {
    "id": "ObZRA4HclZlO"
   },
   "source": [
    "* `empty()`: 초기화되지 않은 배열 생성\n",
    "  + 초기화가 없어서 배열 생성비용 저렴하고 빠름\n",
    "  + 초기화되지 않아서 기존 메모리 위치에 존재하는 값이 있음"
   ]
  },
  {
   "cell_type": "code",
   "execution_count": 10,
   "metadata": {
    "id": "I3SoFgiglAkz"
   },
   "outputs": [
    {
     "data": {
      "text/plain": [
       "array([0., 0., 0., 0., 0., 0., 0., 0., 0., 0.])"
      ]
     },
     "execution_count": 10,
     "metadata": {},
     "output_type": "execute_result"
    }
   ],
   "source": [
    "np.empty(10)"
   ]
  },
  {
   "cell_type": "markdown",
   "metadata": {
    "id": "p3uSl1Ccmi5_"
   },
   "source": [
    "* `_like()`: 지정된 배열과 shape가 같은 행렬 생성\n",
    "  + `np.zeros_like()`\n",
    "  + `np.ones_like()`\n",
    "  + `np.full_like()`\n",
    "  + `np.empty_like()`"
   ]
  },
  {
   "cell_type": "code",
   "execution_count": 11,
   "metadata": {
    "id": "Ad5RskRRlZLs"
   },
   "outputs": [
    {
     "name": "stdout",
     "output_type": "stream",
     "text": [
      "[4 5 6 4 5]\n"
     ]
    },
    {
     "data": {
      "text/plain": [
       "array([0, 0, 0, 0, 0])"
      ]
     },
     "execution_count": 11,
     "metadata": {},
     "output_type": "execute_result"
    }
   ],
   "source": [
    "print(a1)\n",
    "np.zeros_like(a1)"
   ]
  },
  {
   "cell_type": "code",
   "execution_count": 12,
   "metadata": {
    "id": "KChUHsG003Nf"
   },
   "outputs": [
    {
     "name": "stdout",
     "output_type": "stream",
     "text": [
      "[[1 2 3]\n",
      " [4 5 6]\n",
      " [7 8 9]]\n"
     ]
    },
    {
     "data": {
      "text/plain": [
       "array([[1, 1, 1],\n",
       "       [1, 1, 1],\n",
       "       [1, 1, 1]])"
      ]
     },
     "execution_count": 12,
     "metadata": {},
     "output_type": "execute_result"
    }
   ],
   "source": [
    "print(a2)\n",
    "np.ones_like(a2)"
   ]
  },
  {
   "cell_type": "code",
   "execution_count": 13,
   "metadata": {
    "id": "PUnDz6b305Gg"
   },
   "outputs": [
    {
     "name": "stdout",
     "output_type": "stream",
     "text": [
      "[[[1 2 3]\n",
      "  [4 5 6]\n",
      "  [7 8 9]]\n",
      "\n",
      " [[1 2 3]\n",
      "  [4 5 6]\n",
      "  [7 8 9]]\n",
      "\n",
      " [[1 2 3]\n",
      "  [4 5 6]\n",
      "  [7 8 9]]]\n"
     ]
    },
    {
     "data": {
      "text/plain": [
       "array([[[10, 10, 10],\n",
       "        [10, 10, 10],\n",
       "        [10, 10, 10]],\n",
       "\n",
       "       [[10, 10, 10],\n",
       "        [10, 10, 10],\n",
       "        [10, 10, 10]],\n",
       "\n",
       "       [[10, 10, 10],\n",
       "        [10, 10, 10],\n",
       "        [10, 10, 10]]])"
      ]
     },
     "execution_count": 13,
     "metadata": {},
     "output_type": "execute_result"
    }
   ],
   "source": [
    "print(a3)\n",
    "np.full_like(a3, 10)"
   ]
  },
  {
   "cell_type": "markdown",
   "metadata": {
    "id": "apoksGJNrn1z"
   },
   "source": [
    "### 생성한 값으로 배열 생성"
   ]
  },
  {
   "cell_type": "markdown",
   "metadata": {
    "id": "H3nmLct8cnV8"
   },
   "source": [
    "* `arange()`: 정수 범위로 배열 생성"
   ]
  },
  {
   "cell_type": "code",
   "execution_count": 14,
   "metadata": {
    "id": "mANy4WY4cDKa"
   },
   "outputs": [
    {
     "data": {
      "text/plain": [
       "array([ 0,  2,  4,  6,  8, 10, 12, 14, 16, 18, 20, 22, 24, 26, 28])"
      ]
     },
     "execution_count": 14,
     "metadata": {},
     "output_type": "execute_result"
    }
   ],
   "source": [
    "np.arange(0, 30, 2)"
   ]
  },
  {
   "cell_type": "markdown",
   "metadata": {
    "id": "s5kET1e6itlo"
   },
   "source": [
    "* `linspace()`: 범위 내에서 균등 간격의 배열 생성"
   ]
  },
  {
   "cell_type": "code",
   "execution_count": 15,
   "metadata": {
    "id": "u4q9gI7Zcltz"
   },
   "outputs": [
    {
     "data": {
      "text/plain": [
       "array([0.  , 0.25, 0.5 , 0.75, 1.  ])"
      ]
     },
     "execution_count": 15,
     "metadata": {},
     "output_type": "execute_result"
    }
   ],
   "source": [
    "np.linspace(0, 1, 5)"
   ]
  },
  {
   "cell_type": "markdown",
   "metadata": {
    "id": "Eq26d7T3nnAH"
   },
   "source": [
    "* `logspace()`: 범위 내에서 균등간격으로 로그 스케일로 배열 생성"
   ]
  },
  {
   "cell_type": "code",
   "execution_count": 16,
   "metadata": {
    "id": "-O29WBVEnyXX"
   },
   "outputs": [
    {
     "data": {
      "text/plain": [
       "array([ 1.25892541,  1.40400425,  1.565802  ,  1.74624535,  1.94748304,\n",
       "        2.1719114 ,  2.42220294,  2.70133812,  3.0126409 ,  3.35981829,\n",
       "        3.74700446,  4.17881006,  4.66037703,  5.19743987,  5.79639395,\n",
       "        6.46437163,  7.2093272 ,  8.04013161,  8.9666781 , 10.        ])"
      ]
     },
     "execution_count": 16,
     "metadata": {},
     "output_type": "execute_result"
    }
   ],
   "source": [
    "np.logspace(0.1, 1, 20)"
   ]
  },
  {
   "cell_type": "markdown",
   "metadata": {
    "id": "6_88s4_Jr7fO"
   },
   "source": [
    "### 랜덤값으로 배열 생성\n",
    "\n",
    "| 함수 | 설명 |  \n",
    "|------|------|  \n",
    "| `send` | 난수 발생을 위한 시드(seed) 지정 |  \n",
    "| `permutation` | 순서를 임의로 바꾸거나 임의의 순열 반환 |  \n",
    "| `shuffle` | 리스트나 배열의 순서를 뒤섞음 |  \n",
    "| `random` | 랜덤한 수의 배열 생성 |  \n",
    "| `rand` | 균등분포에서 표본 추출 |  \n",
    "| `randint` | 주어진 최소/최대 범위의 난수 추출 |  \n",
    "| `randn` | 표준편차가 1, 평균값 0인 정규분포의 표본 추출 |  \n",
    "| `binomial` | 이항 분포에서 표본 추출 |  \n",
    "| `normal` | 정규분포(가우시안)에서 표본 추출 |  \n",
    "| `beta` | 베타분포에서 표본 추출 |  \n",
    "| `chisquare` | 카이제곱분포에서 표본추출 |  \n",
    "| `gamma` | 감마분포에서 표본 추출 |  \n",
    "| `uniform` | 균등(0, 1)분포에서 표본 추출 |  "
   ]
  },
  {
   "cell_type": "markdown",
   "metadata": {
    "id": "CoK1cVUkjNMg"
   },
   "source": [
    "* `random.random()`: 랜덤한 수의 배열 생성"
   ]
  },
  {
   "cell_type": "code",
   "execution_count": 17,
   "metadata": {
    "id": "qJwccKEnjMze"
   },
   "outputs": [
    {
     "data": {
      "text/plain": [
       "array([[0.23309786, 0.88623947, 0.75553281],\n",
       "       [0.33419776, 0.32420123, 0.8717551 ],\n",
       "       [0.81030413, 0.69888357, 0.87647322]])"
      ]
     },
     "execution_count": 17,
     "metadata": {},
     "output_type": "execute_result"
    }
   ],
   "source": [
    "np.random.random((3, 3))"
   ]
  },
  {
   "cell_type": "markdown",
   "metadata": {
    "id": "BYsAVwA1kvDI"
   },
   "source": [
    "* `random.randint()`: 일정 구간의 랜덤 정수의 배열 생성"
   ]
  },
  {
   "cell_type": "code",
   "execution_count": 18,
   "metadata": {
    "id": "oR-UszZ_jqfQ"
   },
   "outputs": [
    {
     "data": {
      "text/plain": [
       "array([[8, 0, 9],\n",
       "       [4, 7, 1],\n",
       "       [1, 4, 1]])"
      ]
     },
     "execution_count": 18,
     "metadata": {},
     "output_type": "execute_result"
    }
   ],
   "source": [
    "np.random.randint(0, 10, (3, 3))"
   ]
  },
  {
   "cell_type": "markdown",
   "metadata": {
    "id": "2r557WHsjrL3"
   },
   "source": [
    "* `random.normal()`: 정규분포(normal distribution)를 고려한 랜덤한 수의 배열 생성\n",
    "* 평균=0, 표준편차=1, 3 x 3 배열"
   ]
  },
  {
   "cell_type": "code",
   "execution_count": 19,
   "metadata": {
    "id": "Oan3bSpHi2Wq"
   },
   "outputs": [
    {
     "data": {
      "text/plain": [
       "array([[-0.63233826, -0.76659176,  0.4275428 ],\n",
       "       [ 0.56887224, -0.11871224,  0.47617861],\n",
       "       [-1.21313304,  0.56346982,  2.3285396 ]])"
      ]
     },
     "execution_count": 19,
     "metadata": {},
     "output_type": "execute_result"
    }
   ],
   "source": [
    "np.random.normal(0, 1, (3, 3))"
   ]
  },
  {
   "cell_type": "markdown",
   "metadata": {
    "id": "fPO-D1rHsrFw"
   },
   "source": [
    "* `random.rand()`: 균등분포(uniform distribution)를 고려한 랜덤한 수의 배열 생성"
   ]
  },
  {
   "cell_type": "code",
   "execution_count": 20,
   "metadata": {
    "id": "DxiyEjnXnDUT"
   },
   "outputs": [
    {
     "data": {
      "text/plain": [
       "array([[0.50847104, 0.89814583, 0.12841383],\n",
       "       [0.76272629, 0.99775854, 0.3902768 ],\n",
       "       [0.60631098, 0.74951677, 0.83586503]])"
      ]
     },
     "execution_count": 20,
     "metadata": {},
     "output_type": "execute_result"
    }
   ],
   "source": [
    "np.random.rand(3, 3)"
   ]
  },
  {
   "cell_type": "markdown",
   "metadata": {
    "id": "IegH2dsPLQgd"
   },
   "source": [
    "* `random.randn()`: 표준 정규 분포(standard normal distribution)를 고려한 랜덤한 수의 배열 생성"
   ]
  },
  {
   "cell_type": "code",
   "execution_count": 21,
   "metadata": {
    "id": "V61VHa-JLIma"
   },
   "outputs": [
    {
     "data": {
      "text/plain": [
       "array([[ 1.16777965,  1.8308085 ,  1.06947488],\n",
       "       [ 1.20770999, -0.37333406, -1.18966125],\n",
       "       [-0.7145528 ,  0.18555752, -0.07923527]])"
      ]
     },
     "execution_count": 21,
     "metadata": {},
     "output_type": "execute_result"
    }
   ],
   "source": [
    "np.random.randn(3, 3)"
   ]
  },
  {
   "cell_type": "markdown",
   "metadata": {
    "id": "5ts0cYLQL_pT"
   },
   "source": [
    "### 표준 데이터 타입\n",
    "\n",
    "| 데이터 타입 | 설명 |  \n",
    "|------|------|  \n",
    "| `bool_` | 바이트로 저장된 불리언(Boolean)으로 True 또는 False 값을 가짐 |  \n",
    "| `int_` | 기본 정수(integer)타입 |  \n",
    "| `intc` | C 언어에서 사용되는 `int`와 동일 (일반적으로 `int32` 또는 `int`64) |  \n",
    "| `intp` | 인덱싱에서 사용되는 정수(C 언어에서 `ssize_t`와 동일; 일반적으로 `int32`또는`int64`) |  \n",
    "| `int8` | 바이트(Byte)(-128 ~ 127) |  \n",
    "| `int16` | 정수 (-32768 ~ 32767) |  \n",
    "| `int32` | 정수 (-2147483648 ~ 2147483647) |  \n",
    "| `int64` | 정수 (-9223372036854775808 ~ 9223372036854775807) |  \n",
    "| `uint8` | 부호 없는 정수 (0 ~ 255) |  \n",
    "| `uint16` | 부호 없는 정수 (0 ~ 65535) |  \n",
    "| `uint32` | 부호 없는 정수 (0 ~ 4294967295) |  \n",
    "| `uint64` | 부호 없는 정수 (0 ~ 18446744073709551615) |  \n",
    "| `float16` | 반정밀 부동 소수점(Half precision float): 부호 비트, 5비트 지수, 10비트 가수 |  \n",
    "| `float32` | 단정밀 부동 소수점(Half precision float): 부호 비트, 8비트 지수, 23비트 가수 |  \n",
    "| `float64` | 배정밀 부동 소수점(Half precision float): 부호 비트, 11비트 지수, 52비트 가수 |  \n",
    "| `float_` | `float64`를 줄여서 표현 |  \n",
    "| `complex64` | 복소수(Complex number), 두 개의 32비트 부동 소수점으로 표현 |  \n",
    "| `complex128` | 복소수, 두 개의 64비트 부동 소수점으로 표현 |  \n",
    "| `complex_` | `complex128`를 줄여서 표현 |  "
   ]
  },
  {
   "cell_type": "code",
   "execution_count": 22,
   "metadata": {
    "id": "rxqTqAFKL73y"
   },
   "outputs": [
    {
     "data": {
      "text/plain": [
       "array([0, 0, 0, 0, 0, 0, 0, 0, 0, 0, 0, 0, 0, 0, 0, 0, 0, 0, 0, 0])"
      ]
     },
     "execution_count": 22,
     "metadata": {},
     "output_type": "execute_result"
    }
   ],
   "source": [
    "np.zeros(20, dtype=int)"
   ]
  },
  {
   "cell_type": "code",
   "execution_count": 23,
   "metadata": {
    "id": "o9TuSl6HIsXr"
   },
   "outputs": [
    {
     "data": {
      "text/plain": [
       "array([[ True,  True,  True],\n",
       "       [ True,  True,  True],\n",
       "       [ True,  True,  True]])"
      ]
     },
     "execution_count": 23,
     "metadata": {},
     "output_type": "execute_result"
    }
   ],
   "source": [
    "np.ones((3, 3), dtype=bool)"
   ]
  },
  {
   "cell_type": "code",
   "execution_count": 24,
   "metadata": {
    "id": "w-TciNfzEhY0"
   },
   "outputs": [
    {
     "data": {
      "text/plain": [
       "array([[1., 1., 1.],\n",
       "       [1., 1., 1.],\n",
       "       [1., 1., 1.]])"
      ]
     },
     "execution_count": 24,
     "metadata": {},
     "output_type": "execute_result"
    }
   ],
   "source": [
    "np.full((3, 3), 1.0, dtype=float)"
   ]
  },
  {
   "cell_type": "markdown",
   "metadata": {
    "id": "1qFumu-p-0mQ"
   },
   "source": [
    "### 날짜/시간 배열 생성\n",
    "| 코드 | 의미 | 상대적 시간 범위 | 절대적 시간 범위 |  \n",
    "|------|------|------------------|------------------|\n",
    "| `Y` | 연 | +- 9.2e18 년 | [9.2e18 BC, 9.2e18 AD] |\n",
    "| `M` | 월 | +- 7.6e17 년 | [7.6e17 BC, 7.6e17 AD] |\n",
    "| `W` | 주 | +- 1.7e17 년 | [1.7e17 BC, 1.7e17 AD] |\n",
    "| `D` | 일 | +- 2.5e16 년 | [2.5e16 BC, 2.5e16 AD] |\n",
    "| `h` | 시 | +- 1.0e15 년 | [1.0e15 BC, 1.0e15 AD] |\n",
    "| `m` | 분 | +- 1.7e13 년 | [1.7e13 BC, 1.7e13 AD] |\n",
    "| `s` | 초 | +- 2.9e12 년 | [2.9e12 BC, 2.9e12 AD] |\n",
    "| `ms` | 밀리초 | +- 2.9e9 년 | [2.9e9 BC, 2.9e9 AD] |\n",
    "| `us` | 마이크로초 | +- 2.9e6 년 | [2.9e6 BC, 2.9e6 AD] |\n",
    "| `ns` | 나노초 | +- 292 년 | [1678 AD, 2262 AD] |\n",
    "| `ps` | 피코초 | +- 106 일 | [1969 AD, 1970 AD] |\n",
    "| `fs` | 팸토초 | +- 2.6 시간 | [1969 AD, 1970 AD] |\n",
    "| `as` | 아토초 | +- 9.2초 | [1969 AD, 1970 AD] |"
   ]
  },
  {
   "cell_type": "code",
   "execution_count": 25,
   "metadata": {
    "id": "D8ozvTUf-6Rr"
   },
   "outputs": [
    {
     "data": {
      "text/plain": [
       "array('2020-01-01', dtype='datetime64[D]')"
      ]
     },
     "execution_count": 25,
     "metadata": {},
     "output_type": "execute_result"
    }
   ],
   "source": [
    "date = np.array('2020-01-01', dtype=np.datetime64)\n",
    "date"
   ]
  },
  {
   "cell_type": "code",
   "execution_count": 26,
   "metadata": {
    "id": "XIjLUkn6_K3J"
   },
   "outputs": [
    {
     "data": {
      "text/plain": [
       "array(['2020-01-01', '2020-01-02', '2020-01-03', '2020-01-04',\n",
       "       '2020-01-05', '2020-01-06', '2020-01-07', '2020-01-08',\n",
       "       '2020-01-09', '2020-01-10', '2020-01-11', '2020-01-12'],\n",
       "      dtype='datetime64[D]')"
      ]
     },
     "execution_count": 26,
     "metadata": {},
     "output_type": "execute_result"
    }
   ],
   "source": [
    "date + np.arange(12)"
   ]
  },
  {
   "cell_type": "code",
   "execution_count": 27,
   "metadata": {
    "id": "EO7yE5VR_Wlh"
   },
   "outputs": [
    {
     "data": {
      "text/plain": [
       "numpy.datetime64('2020-06-01T12:00')"
      ]
     },
     "execution_count": 27,
     "metadata": {},
     "output_type": "execute_result"
    }
   ],
   "source": [
    "datetime = np.datetime64('2020-06-01 12:00')\n",
    "datetime"
   ]
  },
  {
   "cell_type": "code",
   "execution_count": 28,
   "metadata": {
    "id": "3dnOlf9i_kzX"
   },
   "outputs": [
    {
     "data": {
      "text/plain": [
       "numpy.datetime64('2020-06-01T12:00:12.340000000')"
      ]
     },
     "execution_count": 28,
     "metadata": {},
     "output_type": "execute_result"
    }
   ],
   "source": [
    "datetime = np.datetime64('2020-06-01 12:00:12.34', 'ns')\n",
    "datetime"
   ]
  },
  {
   "cell_type": "markdown",
   "metadata": {
    "id": "5AREIamhGxAr"
   },
   "source": [
    "\n",
    "\n",
    "---\n",
    "\n"
   ]
  },
  {
   "cell_type": "markdown",
   "metadata": {
    "id": "d88tkTqbBE5V"
   },
   "source": [
    "## 배열 조회"
   ]
  },
  {
   "cell_type": "markdown",
   "metadata": {
    "id": "vRqwfbjtFnPn"
   },
   "source": [
    "### 배열 속성 정보"
   ]
  },
  {
   "cell_type": "code",
   "execution_count": 29,
   "metadata": {
    "id": "R5Rlcll7GXrM"
   },
   "outputs": [],
   "source": [
    "def array_info(array):\n",
    "    print(array)\n",
    "    print('ndim:', array.ndim)\n",
    "    print('shape:', array.shape)\n",
    "    print('dtype:', array.dtype)\n",
    "    print('size:', array.size)\n",
    "    print('itemsize:', array.itemsize)\n",
    "    print('nbytes:', array.nbytes)\n",
    "    print('strides:', array.strides)"
   ]
  },
  {
   "cell_type": "code",
   "execution_count": 30,
   "metadata": {
    "id": "Na59LwA7KXZV"
   },
   "outputs": [
    {
     "name": "stdout",
     "output_type": "stream",
     "text": [
      "[4 5 6 4 5]\n",
      "ndim: 1\n",
      "shape: (5,)\n",
      "dtype: int32\n",
      "size: 5\n",
      "itemsize: 4\n",
      "nbytes: 20\n",
      "strides: (4,)\n"
     ]
    }
   ],
   "source": [
    "array_info(a1)"
   ]
  },
  {
   "cell_type": "code",
   "execution_count": 31,
   "metadata": {
    "id": "Urzr_LsdLah0"
   },
   "outputs": [
    {
     "name": "stdout",
     "output_type": "stream",
     "text": [
      "[[1 2 3]\n",
      " [4 5 6]\n",
      " [7 8 9]]\n",
      "ndim: 2\n",
      "shape: (3, 3)\n",
      "dtype: int32\n",
      "size: 9\n",
      "itemsize: 4\n",
      "nbytes: 36\n",
      "strides: (12, 4)\n"
     ]
    }
   ],
   "source": [
    "array_info(a2)"
   ]
  },
  {
   "cell_type": "code",
   "execution_count": 32,
   "metadata": {
    "id": "jktqh1lsLf4V"
   },
   "outputs": [
    {
     "name": "stdout",
     "output_type": "stream",
     "text": [
      "[[[1 2 3]\n",
      "  [4 5 6]\n",
      "  [7 8 9]]\n",
      "\n",
      " [[1 2 3]\n",
      "  [4 5 6]\n",
      "  [7 8 9]]\n",
      "\n",
      " [[1 2 3]\n",
      "  [4 5 6]\n",
      "  [7 8 9]]]\n",
      "ndim: 3\n",
      "shape: (3, 3, 3)\n",
      "dtype: int32\n",
      "size: 27\n",
      "itemsize: 4\n",
      "nbytes: 108\n",
      "strides: (36, 12, 4)\n"
     ]
    }
   ],
   "source": [
    "array_info(a3)"
   ]
  },
  {
   "cell_type": "markdown",
   "metadata": {
    "id": "LV1WfdBWFqDu"
   },
   "source": [
    "### 인덱싱(Indexing)"
   ]
  },
  {
   "cell_type": "code",
   "execution_count": 33,
   "metadata": {
    "id": "Nyb7eDmGFr5m"
   },
   "outputs": [
    {
     "name": "stdout",
     "output_type": "stream",
     "text": [
      "[4 5 6 4 5]\n",
      "4\n",
      "6\n",
      "5\n",
      "4\n"
     ]
    }
   ],
   "source": [
    "print(a1)\n",
    "print(a1[0])\n",
    "print(a1[2])\n",
    "print(a1[-1])\n",
    "print(a1[-2])"
   ]
  },
  {
   "cell_type": "code",
   "execution_count": 34,
   "metadata": {
    "id": "uHMNcQW3Kn-h"
   },
   "outputs": [
    {
     "name": "stdout",
     "output_type": "stream",
     "text": [
      "[[1 2 3]\n",
      " [4 5 6]\n",
      " [7 8 9]]\n",
      "1\n",
      "3\n",
      "5\n",
      "9\n"
     ]
    }
   ],
   "source": [
    "print(a2)\n",
    "print(a2[0, 0])\n",
    "print(a2[0, 2])\n",
    "print(a2[1, 1])\n",
    "print(a2[2, -1])"
   ]
  },
  {
   "cell_type": "code",
   "execution_count": 35,
   "metadata": {
    "id": "IX5yDMGiMxYZ"
   },
   "outputs": [
    {
     "name": "stdout",
     "output_type": "stream",
     "text": [
      "[[[1 2 3]\n",
      "  [4 5 6]\n",
      "  [7 8 9]]\n",
      "\n",
      " [[1 2 3]\n",
      "  [4 5 6]\n",
      "  [7 8 9]]\n",
      "\n",
      " [[1 2 3]\n",
      "  [4 5 6]\n",
      "  [7 8 9]]]\n",
      "1\n",
      "5\n",
      "9\n",
      "9\n"
     ]
    }
   ],
   "source": [
    "print(a3)\n",
    "print(a3[0, 0, 0])\n",
    "print(a3[1, 1, 1])\n",
    "print(a3[2, 2, 2])\n",
    "print(a3[2, -1, -1])"
   ]
  },
  {
   "cell_type": "markdown",
   "metadata": {
    "id": "uSeXu2y_O4cu"
   },
   "source": [
    "### 슬라이싱(Slicing)"
   ]
  },
  {
   "cell_type": "markdown",
   "metadata": {
    "id": "1hikO_6ZPp5m"
   },
   "source": [
    "* 슬라이싱 구문: `a[start:stop:step]`\n",
    "* 기본값: start=0, stop=ndim, step=1"
   ]
  },
  {
   "cell_type": "code",
   "execution_count": 36,
   "metadata": {
    "id": "PYZOOCoVO7BF"
   },
   "outputs": [
    {
     "name": "stdout",
     "output_type": "stream",
     "text": [
      "[4 5 6 4 5]\n",
      "[4 5]\n",
      "[4 5 6 4 5]\n",
      "[4]\n",
      "[4 6 5]\n",
      "[5 4 6 5 4]\n"
     ]
    }
   ],
   "source": [
    "print(a1)\n",
    "print(a1[0:2])\n",
    "print(a1[0:])\n",
    "print(a1[:1])\n",
    "print(a1[::2])\n",
    "print(a1[::-1])"
   ]
  },
  {
   "cell_type": "code",
   "execution_count": 37,
   "metadata": {
    "id": "oULOFrBQWs1G"
   },
   "outputs": [
    {
     "name": "stdout",
     "output_type": "stream",
     "text": [
      "[[1 2 3]\n",
      " [4 5 6]\n",
      " [7 8 9]]\n",
      "[4 5 6]\n",
      "[4 5 6]\n",
      "[[1 2]\n",
      " [4 5]]\n",
      "[[6 5 4]\n",
      " [9 8 7]]\n",
      "[[9 8 7]\n",
      " [6 5 4]\n",
      " [3 2 1]]\n"
     ]
    }
   ],
   "source": [
    "print(a2)\n",
    "print(a2[1])\n",
    "print(a2[1, :])\n",
    "print(a2[:2, :2])\n",
    "print(a2[1:, ::-1])\n",
    "print(a2[::-1, ::-1])"
   ]
  },
  {
   "cell_type": "markdown",
   "metadata": {
    "id": "LD52bXAsBgbH"
   },
   "source": [
    "### 불리언 인덱싱(Boolean Indexing)\n",
    "\n",
    "* 배열 각 요소의 선택 여부를 불리언(True or False)로 지정\n",
    "* True 값인 인덱스의 값만 조회"
   ]
  },
  {
   "cell_type": "code",
   "execution_count": 38,
   "metadata": {
    "id": "pOvNsH2oBgz-"
   },
   "outputs": [
    {
     "name": "stdout",
     "output_type": "stream",
     "text": [
      "[4 5 6 4 5]\n",
      "[5 6 5]\n",
      "[4 6 4]\n"
     ]
    }
   ],
   "source": [
    "print(a1)\n",
    "bi = [False, True, True, False, True]\n",
    "print(a1[bi])\n",
    "bi = [True, False, True, True, False]\n",
    "print(a1[bi])"
   ]
  },
  {
   "cell_type": "code",
   "execution_count": 39,
   "metadata": {
    "id": "EFfquM2kWHAU"
   },
   "outputs": [
    {
     "name": "stdout",
     "output_type": "stream",
     "text": [
      "[[1 2 3]\n",
      " [4 5 6]\n",
      " [7 8 9]]\n",
      "[[False False  True]\n",
      " [False False False]\n",
      " [ True False  True]]\n",
      "[3 7 9]\n"
     ]
    }
   ],
   "source": [
    "print(a2)\n",
    "bi = np.random.randint(0, 2, (3, 3), dtype=bool)\n",
    "print(bi)\n",
    "print(a2[bi])"
   ]
  },
  {
   "cell_type": "markdown",
   "metadata": {
    "id": "R5hes-hdBujH"
   },
   "source": [
    "### 팬시 인덱싱(Fancy Indedxing)"
   ]
  },
  {
   "cell_type": "code",
   "execution_count": 40,
   "metadata": {
    "id": "z-Luw5fzBx30"
   },
   "outputs": [
    {
     "name": "stdout",
     "output_type": "stream",
     "text": [
      "[4 5 6 4 5]\n",
      "[4, 6]\n",
      "[4 6]\n",
      "[[4 5]\n",
      " [6 4]]\n"
     ]
    }
   ],
   "source": [
    "print(a1)\n",
    "print([a1[0], a1[2]])\n",
    "ind = [0, 2]\n",
    "print(a1[ind])\n",
    "ind = np.array([[0, 1], \n",
    "               [2, 0]])\n",
    "print(a1[ind])"
   ]
  },
  {
   "cell_type": "code",
   "execution_count": 41,
   "metadata": {
    "id": "p_Dd0oiJahgj"
   },
   "outputs": [
    {
     "name": "stdout",
     "output_type": "stream",
     "text": [
      "[[1 2 3]\n",
      " [4 5 6]\n",
      " [7 8 9]]\n",
      "[2 9]\n",
      "[[1 2 3]\n",
      " [7 8 9]]\n",
      "[[2 3]\n",
      " [5 6]\n",
      " [8 9]]\n",
      "[2 8]\n",
      "[8 9]\n",
      "[[5 6]\n",
      " [8 9]]\n"
     ]
    }
   ],
   "source": [
    "print(a2)\n",
    "row = np.array([0, 2])\n",
    "col = np.array([1, 2])\n",
    "print(a2[row, col])\n",
    "print(a2[row, :])\n",
    "print(a2[:, col])\n",
    "print(a2[row, 1])\n",
    "print(a2[2, col])\n",
    "print(a2[1:, col])"
   ]
  },
  {
   "cell_type": "markdown",
   "metadata": {
    "id": "F71_PQF1GvTs"
   },
   "source": [
    "\n",
    "\n",
    "---\n",
    "\n"
   ]
  },
  {
   "cell_type": "markdown",
   "metadata": {
    "id": "zDI5yQ58O-IX"
   },
   "source": [
    "## 배열 값 삽입/수정/삭제/복사"
   ]
  },
  {
   "cell_type": "markdown",
   "metadata": {
    "id": "zajd1qpVOQYy"
   },
   "source": [
    "### 배열 값 삽입\n",
    "\n",
    "* `insert()`: 배열의 특정 위치에 값 삽입\n",
    "* axis를 지정하지 않으면 1차원 배열로 변환\n",
    "* 추가할 방향을 axis로 지정\n",
    "* 원본 배열 변경없이 새로운 배열 반환"
   ]
  },
  {
   "cell_type": "code",
   "execution_count": 42,
   "metadata": {
    "id": "sedRT54rP395"
   },
   "outputs": [
    {
     "name": "stdout",
     "output_type": "stream",
     "text": [
      "[4 5 6 4 5]\n",
      "[10  4  5  6  4  5]\n",
      "[4 5 6 4 5]\n",
      "[ 4  5 10  6  4  5]\n"
     ]
    }
   ],
   "source": [
    "print(a1)\n",
    "b1 = np.insert(a1, 0, 10)\n",
    "print(b1)\n",
    "print(a1)\n",
    "c1 = np.insert(a1, 2, 10)\n",
    "print(c1)"
   ]
  },
  {
   "cell_type": "code",
   "execution_count": 43,
   "metadata": {
    "id": "zNmu1E4iQ6h-"
   },
   "outputs": [
    {
     "name": "stdout",
     "output_type": "stream",
     "text": [
      "[[1 2 3]\n",
      " [4 5 6]\n",
      " [7 8 9]]\n",
      "[[ 1  2  3]\n",
      " [10 10 10]\n",
      " [ 4  5  6]\n",
      " [ 7  8  9]]\n",
      "[[ 1 10  2  3]\n",
      " [ 4 10  5  6]\n",
      " [ 7 10  8  9]]\n"
     ]
    }
   ],
   "source": [
    "print(a2)\n",
    "b2 = np.insert(a2, 1, 10, axis=0)\n",
    "print(b2)\n",
    "c2 = np.insert(a2, 1, 10, axis=1)\n",
    "print(c2)"
   ]
  },
  {
   "cell_type": "markdown",
   "metadata": {
    "id": "OlEzG4ffNjyL"
   },
   "source": [
    "### 배열 값 수정\n",
    "\n",
    "* 배열의 인덱싱으로 접근하여 값 수정"
   ]
  },
  {
   "cell_type": "code",
   "execution_count": 44,
   "metadata": {
    "id": "ec43i1KWNjeN"
   },
   "outputs": [
    {
     "name": "stdout",
     "output_type": "stream",
     "text": [
      "[4 5 6 4 5]\n",
      "[1 2 3 4 5]\n",
      "[9 2 3 4 5]\n",
      "[9 0 3 0 0]\n",
      "[9 4 3 4 4]\n"
     ]
    }
   ],
   "source": [
    "print(a1)\n",
    "a1[0] = 1\n",
    "a1[1] = 2\n",
    "a1[2] = 3\n",
    "print(a1)\n",
    "a1[:1] = 9\n",
    "print(a1)\n",
    "i = np.array([1, 3, 4])\n",
    "a1[i] = 0\n",
    "print(a1)\n",
    "a1[i] += 4\n",
    "print(a1)"
   ]
  },
  {
   "cell_type": "code",
   "execution_count": 45,
   "metadata": {
    "id": "IApNNx3NOMQh"
   },
   "outputs": [
    {
     "name": "stdout",
     "output_type": "stream",
     "text": [
      "[[1 2 3]\n",
      " [4 5 6]\n",
      " [7 8 9]]\n",
      "[[1 1 1]\n",
      " [4 2 6]\n",
      " [7 8 3]]\n",
      "[[1 1 1]\n",
      " [4 2 9]\n",
      " [7 8 9]]\n",
      "[[1 0 1]\n",
      " [4 2 0]\n",
      " [7 8 9]]\n"
     ]
    }
   ],
   "source": [
    "print(a2)\n",
    "a2[0, 0] = 1\n",
    "a2[1, 1] = 2\n",
    "a2[2, 2] = 3\n",
    "a2[0] = 1\n",
    "print(a2)\n",
    "a2[1:, 2] = 9\n",
    "print(a2)\n",
    "row = np.array([0, 1])\n",
    "col = np.array([1, 2])\n",
    "a2[row, col] = 0\n",
    "print(a2)"
   ]
  },
  {
   "cell_type": "markdown",
   "metadata": {
    "id": "emV7DgrITPcn"
   },
   "source": [
    "### 배열 값 삭제\n",
    "\n",
    "* `delete()`: 배열의 특정 위치에 값 삭제\n",
    "* axis를 지정하지 않으면 1차원 배열로 변환\n",
    "* 삭제할 방향을 axis로 지정\n",
    "* 원본 배열 변경없이 새로운 배열 반환"
   ]
  },
  {
   "cell_type": "code",
   "execution_count": 46,
   "metadata": {
    "id": "I3k_Yx8lTRJ2"
   },
   "outputs": [
    {
     "name": "stdout",
     "output_type": "stream",
     "text": [
      "[9 4 3 4 4]\n",
      "[9 3 4 4]\n",
      "[9 4 3 4 4]\n"
     ]
    }
   ],
   "source": [
    "print(a1)\n",
    "b1 = np.delete(a1, 1)\n",
    "print(b1)\n",
    "print(a1)"
   ]
  },
  {
   "cell_type": "code",
   "execution_count": 47,
   "metadata": {
    "id": "tRTwMIfJTq_y"
   },
   "outputs": [
    {
     "name": "stdout",
     "output_type": "stream",
     "text": [
      "[[1 0 1]\n",
      " [4 2 0]\n",
      " [7 8 9]]\n",
      "[[1 0 1]\n",
      " [7 8 9]]\n",
      "[[1 1]\n",
      " [4 0]\n",
      " [7 9]]\n"
     ]
    }
   ],
   "source": [
    "print(a2)\n",
    "b2 = np.delete(a2, 1, axis=0)\n",
    "print(b2)\n",
    "c2 = np.delete(a2, 1, axis=1)\n",
    "print(c2)"
   ]
  },
  {
   "cell_type": "markdown",
   "metadata": {
    "id": "UydkYxV8Z6Fx"
   },
   "source": [
    "### 배열 복사\n",
    "\n",
    "* 리스트 자료형과 달리 배열의 슬라이스는 복사본이 아님"
   ]
  },
  {
   "cell_type": "code",
   "execution_count": 48,
   "metadata": {
    "id": "n2_0L8KWZ7wH"
   },
   "outputs": [
    {
     "name": "stdout",
     "output_type": "stream",
     "text": [
      "[[1 0 1]\n",
      " [4 2 0]\n",
      " [7 8 9]]\n",
      "[[1 0]\n",
      " [4 2]]\n",
      "[[1 0]\n",
      " [4 2]]\n",
      "[[1 0]\n",
      " [4 0]]\n",
      "[[1 0 1]\n",
      " [4 0 0]\n",
      " [7 8 9]]\n"
     ]
    }
   ],
   "source": [
    "print(a2)\n",
    "print(a2[:2, :2])\n",
    "a2_sub = a2[:2, :2]\n",
    "print(a2_sub)\n",
    "a2_sub[:, 1] = 0\n",
    "print(a2_sub)\n",
    "print(a2)"
   ]
  },
  {
   "cell_type": "markdown",
   "metadata": {
    "id": "UrQqOC1Eat5l"
   },
   "source": [
    "\n",
    "* `copy()`: 배열이나 하위 배열 내의 값을 명시적으로 복사"
   ]
  },
  {
   "cell_type": "code",
   "execution_count": 50,
   "metadata": {
    "id": "hLBZ7Qn6bAKO"
   },
   "outputs": [
    {
     "name": "stdout",
     "output_type": "stream",
     "text": [
      "[[1 0 1]\n",
      " [4 0 0]\n",
      " [7 8 9]]\n",
      "[[1 0]\n",
      " [4 0]]\n",
      "[[1 1]\n",
      " [4 1]]\n",
      "[[1 0 1]\n",
      " [4 0 0]\n",
      " [7 8 9]]\n"
     ]
    }
   ],
   "source": [
    "print(a2)\n",
    "a2_sub_copy = a2[:2, :2].copy()\n",
    "print(a2_sub_copy)\n",
    "a2_sub_copy[:, 1] = 1\n",
    "print(a2_sub_copy)\n",
    "print(a2)"
   ]
  },
  {
   "cell_type": "markdown",
   "metadata": {
    "id": "4HTc9FXOGtA7"
   },
   "source": [
    "\n",
    "\n",
    "---\n",
    "\n"
   ]
  },
  {
   "cell_type": "markdown",
   "metadata": {
    "id": "XVZY082__yV6"
   },
   "source": [
    "## 배열 변환"
   ]
  },
  {
   "cell_type": "markdown",
   "metadata": {
    "id": "Ec09aPeBO58M"
   },
   "source": [
    "### 배열 전치 및 축 변경"
   ]
  },
  {
   "cell_type": "code",
   "execution_count": 51,
   "metadata": {
    "id": "anYByBpoWZmj"
   },
   "outputs": [
    {
     "name": "stdout",
     "output_type": "stream",
     "text": [
      "[[1 0 1]\n",
      " [4 0 0]\n",
      " [7 8 9]]\n",
      "[[1 4 7]\n",
      " [0 0 8]\n",
      " [1 0 9]]\n"
     ]
    }
   ],
   "source": [
    "print(a2)\n",
    "print(a2.T)"
   ]
  },
  {
   "cell_type": "code",
   "execution_count": 52,
   "metadata": {
    "id": "wg4XC6kiRnZo"
   },
   "outputs": [
    {
     "name": "stdout",
     "output_type": "stream",
     "text": [
      "[[[1 2 3]\n",
      "  [4 5 6]\n",
      "  [7 8 9]]\n",
      "\n",
      " [[1 2 3]\n",
      "  [4 5 6]\n",
      "  [7 8 9]]\n",
      "\n",
      " [[1 2 3]\n",
      "  [4 5 6]\n",
      "  [7 8 9]]]\n",
      "[[[1 1 1]\n",
      "  [4 4 4]\n",
      "  [7 7 7]]\n",
      "\n",
      " [[2 2 2]\n",
      "  [5 5 5]\n",
      "  [8 8 8]]\n",
      "\n",
      " [[3 3 3]\n",
      "  [6 6 6]\n",
      "  [9 9 9]]]\n"
     ]
    }
   ],
   "source": [
    "print(a3)\n",
    "print(a3.T)"
   ]
  },
  {
   "cell_type": "code",
   "execution_count": 53,
   "metadata": {
    "id": "6lPwXL8rRTfI"
   },
   "outputs": [
    {
     "name": "stdout",
     "output_type": "stream",
     "text": [
      "[[1 0 1]\n",
      " [4 0 0]\n",
      " [7 8 9]]\n",
      "[[1 4 7]\n",
      " [0 0 8]\n",
      " [1 0 9]]\n"
     ]
    }
   ],
   "source": [
    "print(a2)\n",
    "print(a2.swapaxes(1, 0))"
   ]
  },
  {
   "cell_type": "code",
   "execution_count": 54,
   "metadata": {
    "id": "oLbEHtijRewH"
   },
   "outputs": [
    {
     "name": "stdout",
     "output_type": "stream",
     "text": [
      "[[[1 2 3]\n",
      "  [4 5 6]\n",
      "  [7 8 9]]\n",
      "\n",
      " [[1 2 3]\n",
      "  [4 5 6]\n",
      "  [7 8 9]]\n",
      "\n",
      " [[1 2 3]\n",
      "  [4 5 6]\n",
      "  [7 8 9]]]\n",
      "[[[1 2 3]\n",
      "  [1 2 3]\n",
      "  [1 2 3]]\n",
      "\n",
      " [[4 5 6]\n",
      "  [4 5 6]\n",
      "  [4 5 6]]\n",
      "\n",
      " [[7 8 9]\n",
      "  [7 8 9]\n",
      "  [7 8 9]]]\n",
      "[[[1 4 7]\n",
      "  [2 5 8]\n",
      "  [3 6 9]]\n",
      "\n",
      " [[1 4 7]\n",
      "  [2 5 8]\n",
      "  [3 6 9]]\n",
      "\n",
      " [[1 4 7]\n",
      "  [2 5 8]\n",
      "  [3 6 9]]]\n"
     ]
    }
   ],
   "source": [
    "print(a3)\n",
    "print(a3.swapaxes(0, 1))\n",
    "print(a3.swapaxes(1, 2))"
   ]
  },
  {
   "cell_type": "markdown",
   "metadata": {
    "id": "M7xN8WdOdb_S"
   },
   "source": [
    "### 배열 재구조화\n"
   ]
  },
  {
   "cell_type": "markdown",
   "metadata": {
    "id": "JwZJMpXGfY0V"
   },
   "source": [
    "* `reshape()`: 배열의 형상을 변경"
   ]
  },
  {
   "cell_type": "code",
   "execution_count": 55,
   "metadata": {
    "id": "SlGQ17VQdd8i"
   },
   "outputs": [
    {
     "name": "stdout",
     "output_type": "stream",
     "text": [
      "[1 2 3 4 5 6 7 8 9]\n",
      "[[1 2 3]\n",
      " [4 5 6]\n",
      " [7 8 9]]\n"
     ]
    }
   ],
   "source": [
    "n1 = np.arange(1, 10)\n",
    "print(n1)\n",
    "print(n1.reshape(3, 3))"
   ]
  },
  {
   "cell_type": "markdown",
   "metadata": {
    "id": "y_U1W-fQfuQY"
   },
   "source": [
    "* `newaxis()`: 새로운 축 추가"
   ]
  },
  {
   "cell_type": "code",
   "execution_count": 56,
   "metadata": {
    "id": "COif_weCfkGo"
   },
   "outputs": [
    {
     "name": "stdout",
     "output_type": "stream",
     "text": [
      "[1 2 3 4 5 6 7 8 9]\n",
      "[[1 2 3 4 5]]\n",
      "[[1]\n",
      " [2]\n",
      " [3]\n",
      " [4]\n",
      " [5]]\n"
     ]
    }
   ],
   "source": [
    "print(n1)\n",
    "print(n1[np.newaxis, :5])\n",
    "print(n1[:5, np.newaxis])"
   ]
  },
  {
   "cell_type": "markdown",
   "metadata": {
    "id": "FR82RSDggbcJ"
   },
   "source": [
    "### 배열 크기 변경"
   ]
  },
  {
   "cell_type": "markdown",
   "metadata": {
    "id": "D1LuDMVFl4tc"
   },
   "source": [
    "* 배열 모양만 변경"
   ]
  },
  {
   "cell_type": "code",
   "execution_count": 58,
   "metadata": {
    "id": "7B6pHlfxgdSJ"
   },
   "outputs": [
    {
     "name": "stdout",
     "output_type": "stream",
     "text": [
      "[[4 5 0 1 8]\n",
      " [4 5 4 3 6]]\n",
      "[[4 5]\n",
      " [0 1]\n",
      " [8 4]\n",
      " [5 4]\n",
      " [3 6]]\n"
     ]
    }
   ],
   "source": [
    "n2 = np.random.randint(0, 10, (2, 5))\n",
    "print(n2)\n",
    "n2.resize((5, 2))\n",
    "print(n2)"
   ]
  },
  {
   "cell_type": "markdown",
   "metadata": {
    "id": "s0adm-h9l6sv"
   },
   "source": [
    "* 배열 크기 증가\n",
    "* 남은 공간은 0으로 채워짐"
   ]
  },
  {
   "cell_type": "code",
   "execution_count": 60,
   "metadata": {
    "id": "IrX0UcjrlWRV"
   },
   "outputs": [
    {
     "name": "stdout",
     "output_type": "stream",
     "text": [
      "[[4 5 0 1 8]\n",
      " [4 5 4 3 6]\n",
      " [0 0 0 0 0]\n",
      " [0 0 0 0 0]\n",
      " [0 0 0 0 0]]\n"
     ]
    }
   ],
   "source": [
    "n2.resize((5, 5))\n",
    "print(n2)"
   ]
  },
  {
   "cell_type": "markdown",
   "metadata": {
    "id": "78hPDEzfl9JB"
   },
   "source": [
    "* 배열 크기 감소\n",
    "* 포함되지 않은 값은 삭제됨"
   ]
  },
  {
   "cell_type": "code",
   "execution_count": 62,
   "metadata": {
    "id": "fJWrwhc6lmjW"
   },
   "outputs": [
    {
     "name": "stdout",
     "output_type": "stream",
     "text": [
      "[[4 5 0]\n",
      " [1 0 0]\n",
      " [0 0 0]]\n"
     ]
    }
   ],
   "source": [
    "n2.resize((3, 3))\n",
    "print(n2)"
   ]
  },
  {
   "cell_type": "markdown",
   "metadata": {
    "id": "r9z2gD_pHyx9"
   },
   "source": [
    "### 배열 추가\n",
    "\n",
    "* `append()`: 배열의 끝에 값 추가"
   ]
  },
  {
   "cell_type": "code",
   "execution_count": 63,
   "metadata": {
    "id": "fH4lpQKNH5s1"
   },
   "outputs": [
    {
     "name": "stdout",
     "output_type": "stream",
     "text": [
      "[[1 2 3]\n",
      " [4 5 6]\n",
      " [7 8 9]]\n",
      "[[10 11 12]\n",
      " [13 14 15]\n",
      " [16 17 18]]\n"
     ]
    }
   ],
   "source": [
    "a2 = np.arange(1, 10).reshape(3, 3)\n",
    "print(a2)\n",
    "b2 = np.arange(10, 19).reshape(3, 3)\n",
    "print(b2)"
   ]
  },
  {
   "cell_type": "markdown",
   "metadata": {
    "id": "n8SMl5VVIquk"
   },
   "source": [
    "* axis 지정이 없으면 1차원 배열 형태로 변형되어 결합"
   ]
  },
  {
   "cell_type": "code",
   "execution_count": 64,
   "metadata": {
    "id": "LRltk3yFIVsV"
   },
   "outputs": [
    {
     "name": "stdout",
     "output_type": "stream",
     "text": [
      "[ 1  2  3  4  5  6  7  8  9 10 11 12 13 14 15 16 17 18]\n"
     ]
    }
   ],
   "source": [
    "c2 = np.append(a2, b2)\n",
    "print(c2)"
   ]
  },
  {
   "cell_type": "markdown",
   "metadata": {
    "id": "sVW2UFVZJfpR"
   },
   "source": [
    "* axis를 0으로 지정\n",
    "* shape[0]을 제외한 나머지 shape은 같아야 함"
   ]
  },
  {
   "cell_type": "code",
   "execution_count": 65,
   "metadata": {
    "id": "nwJ4xLOeIbMg"
   },
   "outputs": [
    {
     "name": "stdout",
     "output_type": "stream",
     "text": [
      "[[ 1  2  3]\n",
      " [ 4  5  6]\n",
      " [ 7  8  9]\n",
      " [10 11 12]\n",
      " [13 14 15]\n",
      " [16 17 18]]\n"
     ]
    }
   ],
   "source": [
    "c2 = np.append(a2, b2, axis=0)\n",
    "print(c2)"
   ]
  },
  {
   "cell_type": "markdown",
   "metadata": {
    "id": "4YXxzygaJmj-"
   },
   "source": [
    "* axis를 1로 지정\n",
    "* shape[1]을 제외한 나머지 shape은 같아야 함"
   ]
  },
  {
   "cell_type": "code",
   "execution_count": 66,
   "metadata": {
    "id": "JYE4_5gAJmYe"
   },
   "outputs": [
    {
     "name": "stdout",
     "output_type": "stream",
     "text": [
      "[[ 1  2  3 10 11 12]\n",
      " [ 4  5  6 13 14 15]\n",
      " [ 7  8  9 16 17 18]]\n"
     ]
    }
   ],
   "source": [
    "c2 = np.append(a2, b2, axis=1)\n",
    "print(c2)"
   ]
  },
  {
   "cell_type": "markdown",
   "metadata": {
    "id": "9sTza3b2hoe4"
   },
   "source": [
    "### 배열 연결"
   ]
  },
  {
   "cell_type": "markdown",
   "metadata": {
    "id": "TRun2NPYj8Ct"
   },
   "source": [
    "* `concatenate()`: 튜플이나 배열의 리스트를 인수로 사용해 배열 연결"
   ]
  },
  {
   "cell_type": "code",
   "execution_count": 67,
   "metadata": {
    "id": "lmEqdPifhrB_"
   },
   "outputs": [
    {
     "data": {
      "text/plain": [
       "array([1, 3, 5, 2, 4, 6])"
      ]
     },
     "execution_count": 67,
     "metadata": {},
     "output_type": "execute_result"
    }
   ],
   "source": [
    "a1 = np.array([1, 3, 5])\n",
    "b1 = np.array([2, 4, 6])\n",
    "np.concatenate([a1, b1])"
   ]
  },
  {
   "cell_type": "code",
   "execution_count": 68,
   "metadata": {
    "id": "IkoTNIt2k0tp"
   },
   "outputs": [
    {
     "data": {
      "text/plain": [
       "array([1, 3, 5, 2, 4, 6, 7, 8, 9])"
      ]
     },
     "execution_count": 68,
     "metadata": {},
     "output_type": "execute_result"
    }
   ],
   "source": [
    "c1 = np.array([7, 8, 9])\n",
    "np.concatenate([a1, b1, c1])"
   ]
  },
  {
   "cell_type": "code",
   "execution_count": 69,
   "metadata": {
    "id": "vX0SCYX3lEs2"
   },
   "outputs": [
    {
     "data": {
      "text/plain": [
       "array([[ 1,  2,  3],\n",
       "       [ 4,  5,  6],\n",
       "       [10, 11, 12],\n",
       "       [13, 14, 15],\n",
       "       [16, 17, 18]])"
      ]
     },
     "execution_count": 69,
     "metadata": {},
     "output_type": "execute_result"
    }
   ],
   "source": [
    "a2 = np.array([[1, 2, 3], [4, 5, 6]])\n",
    "np.concatenate([a2, b2])"
   ]
  },
  {
   "cell_type": "code",
   "execution_count": 71,
   "metadata": {
    "id": "Rv6xGva7lxHP"
   },
   "outputs": [
    {
     "data": {
      "text/plain": [
       "array([[1, 2, 3, 1, 2, 3],\n",
       "       [4, 5, 6, 4, 5, 6]])"
      ]
     },
     "execution_count": 71,
     "metadata": {},
     "output_type": "execute_result"
    }
   ],
   "source": [
    "a2 = np.array([[1, 2, 3], [4, 5, 6]])\n",
    "np.concatenate([a2, a2], axis=1)"
   ]
  },
  {
   "cell_type": "markdown",
   "metadata": {
    "id": "MbiBbx4nl2KD"
   },
   "source": [
    "* `vstack()`: 수직 스택(vertical stack), 1차원으로 연결"
   ]
  },
  {
   "cell_type": "code",
   "execution_count": 72,
   "metadata": {
    "id": "HkHJwdBMl_qi"
   },
   "outputs": [
    {
     "data": {
      "text/plain": [
       "array([[1, 2, 3],\n",
       "       [4, 5, 6],\n",
       "       [1, 2, 3],\n",
       "       [4, 5, 6]])"
      ]
     },
     "execution_count": 72,
     "metadata": {},
     "output_type": "execute_result"
    }
   ],
   "source": [
    "np.vstack([a2, a2])"
   ]
  },
  {
   "cell_type": "markdown",
   "metadata": {
    "id": "-hTlAnWxmHA_"
   },
   "source": [
    "* `hstack()`: 수평 스택(horizontal stack), 2차원으로 연결"
   ]
  },
  {
   "cell_type": "code",
   "execution_count": 73,
   "metadata": {
    "id": "-HsGlAytmNEz"
   },
   "outputs": [
    {
     "data": {
      "text/plain": [
       "array([[1, 2, 3, 1, 2, 3],\n",
       "       [4, 5, 6, 4, 5, 6]])"
      ]
     },
     "execution_count": 73,
     "metadata": {},
     "output_type": "execute_result"
    }
   ],
   "source": [
    "np.hstack([a2, a2])"
   ]
  },
  {
   "cell_type": "markdown",
   "metadata": {
    "id": "CshM6LURmUhV"
   },
   "source": [
    "* `dstack()`: 깊이 스택(depth stack), 3차원으로 연결"
   ]
  },
  {
   "cell_type": "code",
   "execution_count": 74,
   "metadata": {
    "id": "TFBdRddpmU4m"
   },
   "outputs": [
    {
     "data": {
      "text/plain": [
       "array([[[1, 1],\n",
       "        [2, 2],\n",
       "        [3, 3]],\n",
       "\n",
       "       [[4, 4],\n",
       "        [5, 5],\n",
       "        [6, 6]]])"
      ]
     },
     "execution_count": 74,
     "metadata": {},
     "output_type": "execute_result"
    }
   ],
   "source": [
    "np.dstack([a2, a2])"
   ]
  },
  {
   "cell_type": "markdown",
   "metadata": {
    "id": "JUBtc4UnpaSz"
   },
   "source": [
    "* `stack()`: 새로운 차원으로 연결"
   ]
  },
  {
   "cell_type": "code",
   "execution_count": 75,
   "metadata": {
    "id": "JzoujQ9_pHS5"
   },
   "outputs": [
    {
     "data": {
      "text/plain": [
       "array([[[1, 2, 3],\n",
       "        [4, 5, 6]],\n",
       "\n",
       "       [[1, 2, 3],\n",
       "        [4, 5, 6]]])"
      ]
     },
     "execution_count": 75,
     "metadata": {},
     "output_type": "execute_result"
    }
   ],
   "source": [
    "np.stack([a2, a2])"
   ]
  },
  {
   "cell_type": "markdown",
   "metadata": {
    "id": "eYz74NYKo8iH"
   },
   "source": [
    "### 배열 분할"
   ]
  },
  {
   "cell_type": "markdown",
   "metadata": {
    "id": "wjt2zku5pBmF"
   },
   "source": [
    "* `split()`: 배열 분할"
   ]
  },
  {
   "cell_type": "code",
   "execution_count": 79,
   "metadata": {
    "id": "H_2e71heo-Eq"
   },
   "outputs": [
    {
     "name": "stdout",
     "output_type": "stream",
     "text": [
      "[0 1 2 3 4 5 6 7 8 9]\n",
      "[0 1 2 3 4] [5 6 7 8 9]\n",
      "[0 1] [2 3] [4 5] [6 7] [8 9]\n"
     ]
    }
   ],
   "source": [
    "a1 = np.arange(0, 10)\n",
    "print(a1)\n",
    "b1, c1 = np.split(a1, [5])\n",
    "print(b1, c1)\n",
    "b1, c1, d1, e1, f1 = np.split(a1, [2, 4, 6, 8])\n",
    "print(b1, c1, d1, e1, f1)"
   ]
  },
  {
   "cell_type": "markdown",
   "metadata": {
    "id": "IvvdCQcKsCLn"
   },
   "source": [
    "* `vsplit()`: 수직 분할, 1차원으로 분할"
   ]
  },
  {
   "cell_type": "code",
   "execution_count": 81,
   "metadata": {
    "id": "GdMYlsiLsCoe"
   },
   "outputs": [
    {
     "name": "stdout",
     "output_type": "stream",
     "text": [
      "[[1 2 3]\n",
      " [4 5 6]\n",
      " [7 8 9]]\n",
      "[[1 2 3]\n",
      " [4 5 6]]\n",
      "[[7 8 9]]\n"
     ]
    }
   ],
   "source": [
    "a2 = np.arange(1, 10).reshape(3, 3)\n",
    "print(a2)\n",
    "b2, c2 =np.vsplit(a2, [2])\n",
    "print(b2)\n",
    "print(c2)"
   ]
  },
  {
   "cell_type": "markdown",
   "metadata": {
    "id": "1aC0a034rSXi"
   },
   "source": [
    "* `hsplit()`: 수평 분할, 2차원으로 분할"
   ]
  },
  {
   "cell_type": "code",
   "execution_count": 82,
   "metadata": {
    "id": "ShMnE_bnrSBJ"
   },
   "outputs": [
    {
     "name": "stdout",
     "output_type": "stream",
     "text": [
      "[[1 2 3]\n",
      " [4 5 6]\n",
      " [7 8 9]]\n",
      "[[1 2]\n",
      " [4 5]\n",
      " [7 8]]\n",
      "[[3]\n",
      " [6]\n",
      " [9]]\n"
     ]
    }
   ],
   "source": [
    "a2 = np.arange(1, 10).reshape(3, 3)\n",
    "print(a2)\n",
    "b2, c2 =np.hsplit(a2, [2])\n",
    "print(b2)\n",
    "print(c2)"
   ]
  },
  {
   "cell_type": "markdown",
   "metadata": {
    "id": "Pz3BDD8qsQER"
   },
   "source": [
    "* `dsplit()`: 깊이 분할, 3차원으로 분할"
   ]
  },
  {
   "cell_type": "code",
   "execution_count": 85,
   "metadata": {
    "id": "DqHFGd43sQYj"
   },
   "outputs": [
    {
     "name": "stdout",
     "output_type": "stream",
     "text": [
      "[[[ 1  2  3]\n",
      "  [ 4  5  6]\n",
      "  [ 7  8  9]]\n",
      "\n",
      " [[10 11 12]\n",
      "  [13 14 15]\n",
      "  [16 17 18]]\n",
      "\n",
      " [[19 20 21]\n",
      "  [22 23 24]\n",
      "  [25 26 27]]]\n",
      "[[[ 1  2]\n",
      "  [ 4  5]\n",
      "  [ 7  8]]\n",
      "\n",
      " [[10 11]\n",
      "  [13 14]\n",
      "  [16 17]]\n",
      "\n",
      " [[19 20]\n",
      "  [22 23]\n",
      "  [25 26]]]\n",
      "[[[ 3]\n",
      "  [ 6]\n",
      "  [ 9]]\n",
      "\n",
      " [[12]\n",
      "  [15]\n",
      "  [18]]\n",
      "\n",
      " [[21]\n",
      "  [24]\n",
      "  [27]]]\n"
     ]
    }
   ],
   "source": [
    "a3 = np.arange(1, 28).reshape(3, 3, 3)\n",
    "print(a3)\n",
    "b3, c3 =np.dsplit(a3, [2])\n",
    "print(b3)\n",
    "print(c3)"
   ]
  },
  {
   "cell_type": "markdown",
   "metadata": {
    "id": "rK-zrDZuGoVd"
   },
   "source": [
    "\n",
    "\n",
    "---\n",
    "\n"
   ]
  },
  {
   "cell_type": "markdown",
   "metadata": {
    "id": "Vc-iSWewJ3C1"
   },
   "source": [
    "## 배열 연산\n",
    "\n",
    "* NumPy의 배열 연산은 벡터화(vectorized) 연산을 사용\n",
    "* 일반적으로 NumPy의 범용 함수(universal functions)를 통해 구현\n",
    "* 배열 요소에 대한 반복적인 계산을 효율적으로 수행"
   ]
  },
  {
   "cell_type": "markdown",
   "metadata": {
    "id": "Pg2er1A2w3cz"
   },
   "source": [
    "### 브로드캐스팅(Broadcasting)"
   ]
  },
  {
   "cell_type": "code",
   "execution_count": 88,
   "metadata": {
    "id": "IGU-HRgr20nj"
   },
   "outputs": [
    {
     "name": "stdout",
     "output_type": "stream",
     "text": [
      "[1 2 3]\n",
      "[6 7 8]\n",
      "[[1 2 3]\n",
      " [4 5 6]\n",
      " [7 8 9]]\n",
      "[[ 2  4  6]\n",
      " [ 5  7  9]\n",
      " [ 8 10 12]]\n",
      "[[1]\n",
      " [2]\n",
      " [3]]\n",
      "[[2 3 4]\n",
      " [3 4 5]\n",
      " [4 5 6]]\n"
     ]
    }
   ],
   "source": [
    "a1 = np.array([1, 2, 3])\n",
    "print(a1)\n",
    "print(a1 + 5)\n",
    "\n",
    "a2 = np.arange(1, 10).reshape(3, 3)\n",
    "print(a2)\n",
    "print(a1 + a2)\n",
    "\n",
    "b2 = np.array([1, 2, 3]).reshape(3, 1)\n",
    "print(b2)\n",
    "print(a1 + b2)"
   ]
  },
  {
   "cell_type": "code",
   "execution_count": null,
   "metadata": {
    "id": "IAzsmIAn1HNt"
   },
   "outputs": [],
   "source": []
  },
  {
   "cell_type": "markdown",
   "metadata": {
    "id": "NZzLHHLmwl_b"
   },
   "source": [
    "### 산술 연산(Arithmetic Operators)\n",
    "| 연산자 | 범용 함수 | 설명 |\n",
    "|:-------|:----------:|:-----|\n",
    "| `+` | `np.add` | 덧셈 |\n",
    "| `-` | `np.subtract` | 뺄셈 |\n",
    "| `-` | `np.negative` | 단항 음수 |\n",
    "| `*` | `np.multiply` | 곱셈 |\n",
    "| `/` | `np.divide` | 나눗셈 |\n",
    "| `//` | `np.floor_divide` | 나눗셈 내림 |\n",
    "| `**` | `np.power` | 지수 연산 |\n",
    "| `%` | `np.mod` | 나머지 연산 |"
   ]
  },
  {
   "cell_type": "code",
   "execution_count": 91,
   "metadata": {
    "id": "jHrIjHGEi05k"
   },
   "outputs": [
    {
     "name": "stdout",
     "output_type": "stream",
     "text": [
      "[1 2 3 4 5 6 7 8 9]\n",
      "[ 2  3  4  5  6  7  8  9 10]\n",
      "[11 12 13 14 15 16 17 18 19]\n",
      "[-1  0  1  2  3  4  5  6  7]\n",
      "[-9 -8 -7 -6 -5 -4 -3 -2 -1]\n",
      "[-1 -2 -3 -4 -5 -6 -7 -8 -9]\n",
      "[-1 -2 -3 -4 -5 -6 -7 -8 -9]\n",
      "[ 2  4  6  8 10 12 14 16 18]\n",
      "[ 2  4  6  8 10 12 14 16 18]\n",
      "[0.5 1.  1.5 2.  2.5 3.  3.5 4.  4.5]\n",
      "[0.5 1.  1.5 2.  2.5 3.  3.5 4.  4.5]\n",
      "[0 1 1 2 2 3 3 4 4]\n",
      "[0 1 1 2 2 3 3 4 4]\n",
      "[ 1  4  9 16 25 36 49 64 81]\n",
      "[ 1  4  9 16 25 36 49 64 81]\n",
      "[1 0 1 0 1 0 1 0 1]\n",
      "[1 0 1 0 1 0 1 0 1]\n"
     ]
    }
   ],
   "source": [
    "a1 = np.arange(1, 10)\n",
    "print(a1)\n",
    "print(a1 + 1)\n",
    "print(np.add(a1, 10))\n",
    "print(a1 - 2)\n",
    "print(np.subtract(a1, 10))\n",
    "print(-a1)\n",
    "print(np.negative(a1))\n",
    "print(a1 * 2)\n",
    "print(np.multiply(a1, 2))\n",
    "print(a1 / 2)\n",
    "print(np.divide(a1, 2))\n",
    "print(a1 // 2)\n",
    "print(np.floor_divide(a1, 2))\n",
    "print(a1 ** 2)\n",
    "print(np.power(a1, 2))\n",
    "print(a1 % 2)\n",
    "print(np.mod(a1, 2))"
   ]
  },
  {
   "cell_type": "code",
   "execution_count": 92,
   "metadata": {
    "id": "sMUYzXk3psgC"
   },
   "outputs": [
    {
     "name": "stdout",
     "output_type": "stream",
     "text": [
      "[1 2 3 4 5 6 7 8 9]\n",
      "[7 6 6 8 4 8 5 7 7]\n",
      "[ 8  8  9 12  9 14 12 15 16]\n",
      "[-6 -4 -3 -4  1 -2  2  1  2]\n",
      "[ 7 12 18 32 20 48 35 56 63]\n",
      "[0.14285714 0.33333333 0.5        0.5        1.25       0.75\n",
      " 1.4        1.14285714 1.28571429]\n",
      "[0 0 0 0 1 0 1 1 1]\n",
      "[      1      64     729   65536     625 1679616   16807 2097152 4782969]\n",
      "[1 2 3 4 1 6 2 1 2]\n"
     ]
    }
   ],
   "source": [
    "a1 = np.arange(1, 10)\n",
    "print(a1)\n",
    "b1 = np.random.randint(1, 10, size=9)\n",
    "print(b1)\n",
    "print(a1 + b1)\n",
    "print(a1 - b1)\n",
    "print(a1 * b1)\n",
    "print(a1 / b1)\n",
    "print(a1 // b1)\n",
    "print(a1 ** b1)\n",
    "print(a1 % b1)"
   ]
  },
  {
   "cell_type": "code",
   "execution_count": 93,
   "metadata": {
    "id": "ZkyjPmk5onPK"
   },
   "outputs": [
    {
     "name": "stdout",
     "output_type": "stream",
     "text": [
      "[[1 2 3]\n",
      " [4 5 6]\n",
      " [7 8 9]]\n",
      "[[2 7 4]\n",
      " [4 4 7]\n",
      " [6 3 2]]\n",
      "[[ 3  9  7]\n",
      " [ 8  9 13]\n",
      " [13 11 11]]\n",
      "[[-1 -5 -1]\n",
      " [ 0  1 -1]\n",
      " [ 1  5  7]]\n",
      "[[ 2 14 12]\n",
      " [16 20 42]\n",
      " [42 24 18]]\n",
      "[[0.5        0.28571429 0.75      ]\n",
      " [1.         1.25       0.85714286]\n",
      " [1.16666667 2.66666667 4.5       ]]\n",
      "[[0 0 0]\n",
      " [1 1 0]\n",
      " [1 2 4]]\n",
      "[[     1    128     81]\n",
      " [   256    625 279936]\n",
      " [117649    512     81]]\n",
      "[[1 2 3]\n",
      " [0 1 6]\n",
      " [1 2 1]]\n"
     ]
    }
   ],
   "source": [
    "a2 = np.arange(1, 10).reshape(3, 3)\n",
    "print(a2)\n",
    "b2 = np.random.randint(1, 10, size=(3,3))\n",
    "print(b2)\n",
    "print(a2 + b2)\n",
    "print(a2 - b2)\n",
    "print(a2 * b2)\n",
    "print(a2 / b2)\n",
    "print(a2 // b2)\n",
    "print(a2 ** b2)\n",
    "print(a2 % b2)"
   ]
  },
  {
   "cell_type": "markdown",
   "metadata": {
    "id": "hxG_aECas3a9"
   },
   "source": [
    "#### 절대값 함수(Absolute Function)\n",
    "\n",
    "* `absolute()`, `abs()`: 내장된 절대값 함수"
   ]
  },
  {
   "cell_type": "code",
   "execution_count": 95,
   "metadata": {
    "id": "YmX-0LvWs7qM"
   },
   "outputs": [
    {
     "name": "stdout",
     "output_type": "stream",
     "text": [
      "[-5  7  2 -6  6]\n",
      "[5 7 2 6 6]\n",
      "[5 7 2 6 6]\n"
     ]
    }
   ],
   "source": [
    "a1 = np.random.randint(-10, 10, size=5)\n",
    "print(a1)\n",
    "print(np.absolute(a1))\n",
    "print(np.abs(a1))"
   ]
  },
  {
   "cell_type": "markdown",
   "metadata": {
    "id": "U5uE3sVtzRvA"
   },
   "source": [
    "#### 제곱/제곱근 함수\n",
    "\n",
    "* `square`, `sqrt`: 제곱, 제곱근 함수"
   ]
  },
  {
   "cell_type": "code",
   "execution_count": 96,
   "metadata": {
    "id": "ggnIxDGzzTfX"
   },
   "outputs": [
    {
     "name": "stdout",
     "output_type": "stream",
     "text": [
      "[-5  7  2 -6  6]\n",
      "[25 49  4 36 36]\n",
      "[       nan 2.64575131 1.41421356        nan 2.44948974]\n"
     ]
    },
    {
     "name": "stderr",
     "output_type": "stream",
     "text": [
      "<ipython-input-96-4e034cb7ea92>:3: RuntimeWarning: invalid value encountered in sqrt\n",
      "  print(np.sqrt(a1))\n"
     ]
    }
   ],
   "source": [
    "print(a1)\n",
    "print(np.square(a1))\n",
    "print(np.sqrt(a1))"
   ]
  },
  {
   "cell_type": "markdown",
   "metadata": {
    "id": "tWh1aQ50vRhB"
   },
   "source": [
    "#### 지수와 로그 함수 (Exponential and Log Function)"
   ]
  },
  {
   "cell_type": "code",
   "execution_count": 98,
   "metadata": {
    "id": "Dygt3AyHvTZz"
   },
   "outputs": [
    {
     "name": "stdout",
     "output_type": "stream",
     "text": [
      "[2 1 9 6 6]\n",
      "[7.38905610e+00 2.71828183e+00 8.10308393e+03 4.03428793e+02\n",
      " 4.03428793e+02]\n",
      "[  4.   2. 512.  64.  64.]\n",
      "[ 4  1 81 36 36]\n"
     ]
    }
   ],
   "source": [
    "a1 = np.random.randint(1, 10, size=5)\n",
    "print(a1)\n",
    "print(np.exp(a1))\n",
    "print(np.exp2(a1))\n",
    "print(np.power(a1, 2))"
   ]
  },
  {
   "cell_type": "code",
   "execution_count": 99,
   "metadata": {
    "id": "YB0BzwxDvnkT",
    "scrolled": true
   },
   "outputs": [
    {
     "name": "stdout",
     "output_type": "stream",
     "text": [
      "[2 1 9 6 6]\n",
      "[0.69314718 0.         2.19722458 1.79175947 1.79175947]\n",
      "[1.        0.        3.169925  2.5849625 2.5849625]\n",
      "[0.30103    0.         0.95424251 0.77815125 0.77815125]\n"
     ]
    }
   ],
   "source": [
    "print(a1)\n",
    "print(np.log(a1))\n",
    "print(np.log2(a1))\n",
    "print(np.log10(a1))"
   ]
  },
  {
   "cell_type": "markdown",
   "metadata": {},
   "source": [
    "#### 삼각 함수(Trigonometrical Functions)\n",
    "\n",
    "| 함수 | 설명 |\n",
    "|:------|:------|\n",
    "| `np.sin( array )` | 요소 별 사인 |\n",
    "| `np.cos( array )` | 요소 별 코사인 |\n",
    "| `np.tan( array )` | 요소 별 탄젠트 |\n",
    "| `np.arcsin( array )` | 요소 별 아크 사인 |\n",
    "| `np.arccos( array )` | 요소 별 아크 코사인 |\n",
    "| `np.arctan( array )` | 요소 별 아크 탄젠트 |\n",
    "| `np.arctan2( array1, array2 )` | 요소 별 아크 탄젠트 array1 / array2 |\n",
    "| `np.sinh( array )` | 요소 별 하이퍼볼릭 사인 |\n",
    "| `np.cosh( array )` | 요소 별 하이퍼볼릭 코사인 |\n",
    "| `np.tanh( array )` | 요소 별 하이퍼볼릭 탄젠트 |\n",
    "| `np.arcsinh( array )` | 요소 별 하이퍼볼릭 아크 사인 |\n",
    "| `np.arccosh( array )` | 요소 별 하이퍼볼릭 아크 코사인 |\n",
    "| `np.arctanh( array )` | 요소 별 하이퍼볼릭 아크 탄젠트 |\n",
    "| `np.deg2rad( array )` | 요소 별 각도에서 라디안 변환 |\n",
    "| `np.rad2deg( array )` | 요소 별 라디안에서 각도 변환 |\n",
    "| `np.hypot( array1, array2 )` | 요소 별 유클리드 거리 계산 |"
   ]
  },
  {
   "cell_type": "code",
   "execution_count": 100,
   "metadata": {},
   "outputs": [
    {
     "name": "stdout",
     "output_type": "stream",
     "text": [
      "[0.         1.57079633 3.14159265]\n",
      "[0.0000000e+00 1.0000000e+00 1.2246468e-16]\n",
      "[ 1.000000e+00  6.123234e-17 -1.000000e+00]\n",
      "[ 0.00000000e+00  1.63312394e+16 -1.22464680e-16]\n"
     ]
    }
   ],
   "source": [
    "t = np.linspace(0, np.pi, 3)\n",
    "print(t)\n",
    "print(np.sin(t))\n",
    "print(np.cos(t))\n",
    "print(np.tan(t))"
   ]
  },
  {
   "cell_type": "code",
   "execution_count": 101,
   "metadata": {},
   "outputs": [
    {
     "name": "stdout",
     "output_type": "stream",
     "text": [
      "[-1, 0, 1]\n",
      "[-1.57079633  0.          1.57079633]\n",
      "[3.14159265 1.57079633 0.        ]\n",
      "[-0.78539816  0.          0.78539816]\n"
     ]
    }
   ],
   "source": [
    "x = [-1, 0, 1]\n",
    "print(x)\n",
    "print(np.arcsin(x))\n",
    "print(np.arccos(x))\n",
    "print(np.arctan(x))"
   ]
  },
  {
   "cell_type": "markdown",
   "metadata": {
    "id": "hKJtYUVWwxQy"
   },
   "source": [
    "### 집계 함수(Aggregate Functions)\n",
    "\n",
    "| 함수 | NaN 안전 모드 | 설명 |\n",
    "|------|---------------|------|\n",
    "| `np.sum` | `np.nansum` | 요소의 합 계산 |\n",
    "| `np.cumsum` | `np.nancumsum` | 요소의 누적 합 |\n",
    "| `np.diff` | N/A | 요소의 차분 |\n",
    "| `np.prod` | `np.nanprod` | 요소의 곱 계산 |\n",
    "| `np.cumprod` | `np.nancumprod` | 요소의 누적 곱 |\n",
    "| `np.dot` | N/A | 점 곱(dot product) |\n",
    "| `np.matmul` | N/A | 행렬 곱 |\n",
    "| `np.tensordot` | N/A | 텐서곱(tensor product) |\n",
    "| `np.cross` | N/A | 벡터곱(cross product) |\n",
    "| `np.inner` | N/A | 내적(inner product) |\n",
    "| `np.outer` | N/A | 외적(outer product) |\n",
    "| `np.mean` | `np.nanmean` | 요소의 평균 계산 |\n",
    "| `np.std` | `np.nanstd` | 표준 편차 계산 |\n",
    "| `np.var` | `np.nanvar` | 분산 계산 |\n",
    "| `np.min` | `np.nanmin` | 최소값 |\n",
    "| `np.max` | `np.nanmax` | 최대값 |\n",
    "| `np.argmin` | `np.nanargmin` | 최소값 인덱스 |\n",
    "| `np.argmax` | `np.nanargmax` | 최대값 인덱스 |\n",
    "| `np.median` | `np.nanmedian` | 중앙값 |\n",
    "| `np.percentile` | `np.nanpercentile` | 요소의 순위 기반 백분위 수 계산 |\n",
    "| `np.any` | N/A | 요소 중 참이 있는지 평가 |\n",
    "| `np.all` | N/A | 모든 요소가 참인지 평가 |"
   ]
  },
  {
   "cell_type": "markdown",
   "metadata": {
    "id": "GdxMrX5l9m6W"
   },
   "source": [
    "#### sum(): 합 계산"
   ]
  },
  {
   "cell_type": "code",
   "execution_count": 102,
   "metadata": {
    "id": "6bOSPS81tuo5"
   },
   "outputs": [
    {
     "name": "stdout",
     "output_type": "stream",
     "text": [
      "[[8 5 9]\n",
      " [7 5 7]\n",
      " [8 7 7]]\n",
      "63 63\n",
      "[23 17 23] [23 17 23]\n",
      "[22 19 22] [22 19 22]\n"
     ]
    }
   ],
   "source": [
    "a2 = np.random.randint(1, 10, size=(3, 3))\n",
    "print(a2)\n",
    "print(a2.sum(), np.sum(a2))\n",
    "print(a2.sum(axis=0), np.sum(a2, axis=0))\n",
    "print(a2.sum(axis=1), np.sum(a2, axis=1))"
   ]
  },
  {
   "cell_type": "code",
   "execution_count": 103,
   "metadata": {
    "id": "v7m-AQW9uJ9u",
    "scrolled": true
   },
   "outputs": [
    {
     "name": "stdout",
     "output_type": "stream",
     "text": [
      "[[8 5 9]\n",
      " [7 5 7]\n",
      " [8 7 7]]\n",
      "[ 8 13 22 29 34 41 49 56 63]\n",
      "[[ 8  5  9]\n",
      " [15 10 16]\n",
      " [23 17 23]]\n",
      "[[ 8 13 22]\n",
      " [ 7 12 19]\n",
      " [ 8 15 22]]\n"
     ]
    }
   ],
   "source": []
  },
  {
   "cell_type": "markdown",
   "metadata": {
    "id": "U4W4iIb9J4Zd"
   },
   "source": [
    "#### cumsum(): 누적합 계산"
   ]
  },
  {
   "cell_type": "code",
   "execution_count": 105,
   "metadata": {
    "id": "SRZWZD3UJ4wo"
   },
   "outputs": [
    {
     "name": "stdout",
     "output_type": "stream",
     "text": [
      "[[8 5 9]\n",
      " [7 5 7]\n",
      " [8 7 7]]\n",
      "[ 8 13 22 29 34 41 49 56 63]\n",
      "[[ 8  5  9]\n",
      " [15 10 16]\n",
      " [23 17 23]]\n",
      "[[ 8 13 22]\n",
      " [ 7 12 19]\n",
      " [ 8 15 22]]\n"
     ]
    }
   ],
   "source": [
    "print(a2)\n",
    "print(np.cumsum(a2))\n",
    "print(np.cumsum(a2, axis=0))\n",
    "print(np.cumsum(a2, axis=1))"
   ]
  },
  {
   "cell_type": "markdown",
   "metadata": {
    "id": "pVaJRWQ-LV0f"
   },
   "source": [
    "#### diff(): 차분 계산"
   ]
  },
  {
   "cell_type": "code",
   "execution_count": 106,
   "metadata": {
    "id": "yKjnWtGVLWJj"
   },
   "outputs": [
    {
     "name": "stdout",
     "output_type": "stream",
     "text": [
      "[[8 5 9]\n",
      " [7 5 7]\n",
      " [8 7 7]]\n",
      "[[-3  4]\n",
      " [-2  2]\n",
      " [-1  0]]\n",
      "[[-1  0 -2]\n",
      " [ 1  2  0]]\n",
      "[[-3  4]\n",
      " [-2  2]\n",
      " [-1  0]]\n"
     ]
    }
   ],
   "source": [
    "print(a2)\n",
    "print(np.diff(a2))\n",
    "print(np.diff(a2, axis=0))\n",
    "print(np.diff(a2, axis=1))"
   ]
  },
  {
   "cell_type": "markdown",
   "metadata": {
    "id": "b6I38HfA9vGL"
   },
   "source": [
    "#### prod(): 곱 계산"
   ]
  },
  {
   "cell_type": "code",
   "execution_count": 107,
   "metadata": {
    "id": "rGPMXGe89y0O"
   },
   "outputs": [
    {
     "name": "stdout",
     "output_type": "stream",
     "text": [
      "[[8 5 9]\n",
      " [7 5 7]\n",
      " [8 7 7]]\n",
      "34574400\n",
      "[448 175 441]\n",
      "[360 245 392]\n"
     ]
    }
   ],
   "source": [
    "print(a2)\n",
    "print(np.prod(a2))\n",
    "print(np.prod(a2, axis=0))\n",
    "print(np.prod(a2, axis=1))"
   ]
  },
  {
   "cell_type": "markdown",
   "metadata": {
    "id": "RwaoVUGcKkkE"
   },
   "source": [
    "#### cumprod(): 누적곱 계산"
   ]
  },
  {
   "cell_type": "code",
   "execution_count": 108,
   "metadata": {
    "id": "jwYoX9inKk4D"
   },
   "outputs": [
    {
     "name": "stdout",
     "output_type": "stream",
     "text": [
      "[[8 5 9]\n",
      " [7 5 7]\n",
      " [8 7 7]]\n",
      "[       8       40      360     2520    12600    88200   705600  4939200\n",
      " 34574400]\n",
      "[[  8   5   9]\n",
      " [ 56  25  63]\n",
      " [448 175 441]]\n",
      "[[  8  40 360]\n",
      " [  7  35 245]\n",
      " [  8  56 392]]\n"
     ]
    }
   ],
   "source": [
    "print(a2)\n",
    "print(np.cumprod(a2))\n",
    "print(np.cumprod(a2, axis=0))\n",
    "print(np.cumprod(a2, axis=1))"
   ]
  },
  {
   "cell_type": "markdown",
   "metadata": {
    "id": "_LMAbL9hMV7T"
   },
   "source": [
    "#### dot()/matmul(): 점곱/행렬곱 계산"
   ]
  },
  {
   "cell_type": "code",
   "execution_count": 109,
   "metadata": {
    "id": "xC6FBzF0MWW1"
   },
   "outputs": [
    {
     "name": "stdout",
     "output_type": "stream",
     "text": [
      "[[8 5 9]\n",
      " [7 5 7]\n",
      " [8 7 7]]\n",
      "[[1 1 1]\n",
      " [1 1 1]\n",
      " [1 1 1]]\n",
      "[[22 22 22]\n",
      " [19 19 19]\n",
      " [22 22 22]]\n",
      "[[22 22 22]\n",
      " [19 19 19]\n",
      " [22 22 22]]\n"
     ]
    }
   ],
   "source": [
    "print(a2)\n",
    "b2 = np.ones_like(a2)\n",
    "print(b2)\n",
    "print(np.dot(a2, b2))\n",
    "print(np.matmul(a2, b2))"
   ]
  },
  {
   "cell_type": "markdown",
   "metadata": {
    "id": "juVk3vnjPu31"
   },
   "source": [
    "#### tensordot(): 텐서곱 계산"
   ]
  },
  {
   "cell_type": "code",
   "execution_count": 110,
   "metadata": {
    "id": "3LrcLOcjPvNI"
   },
   "outputs": [
    {
     "name": "stdout",
     "output_type": "stream",
     "text": [
      "[[8 5 9]\n",
      " [7 5 7]\n",
      " [8 7 7]]\n",
      "[[1 1 1]\n",
      " [1 1 1]\n",
      " [1 1 1]]\n",
      "63\n",
      "[[[[8 8 8]\n",
      "   [8 8 8]\n",
      "   [8 8 8]]\n",
      "\n",
      "  [[5 5 5]\n",
      "   [5 5 5]\n",
      "   [5 5 5]]\n",
      "\n",
      "  [[9 9 9]\n",
      "   [9 9 9]\n",
      "   [9 9 9]]]\n",
      "\n",
      "\n",
      " [[[7 7 7]\n",
      "   [7 7 7]\n",
      "   [7 7 7]]\n",
      "\n",
      "  [[5 5 5]\n",
      "   [5 5 5]\n",
      "   [5 5 5]]\n",
      "\n",
      "  [[7 7 7]\n",
      "   [7 7 7]\n",
      "   [7 7 7]]]\n",
      "\n",
      "\n",
      " [[[8 8 8]\n",
      "   [8 8 8]\n",
      "   [8 8 8]]\n",
      "\n",
      "  [[7 7 7]\n",
      "   [7 7 7]\n",
      "   [7 7 7]]\n",
      "\n",
      "  [[7 7 7]\n",
      "   [7 7 7]\n",
      "   [7 7 7]]]]\n",
      "[[22 22 22]\n",
      " [19 19 19]\n",
      " [22 22 22]]\n"
     ]
    }
   ],
   "source": [
    "print(a2)\n",
    "print(b2)\n",
    "print(np.tensordot(a2, b2))\n",
    "print(np.tensordot(a2, b2, axes=0))\n",
    "print(np.tensordot(a2, b2, axes=1))"
   ]
  },
  {
   "cell_type": "markdown",
   "metadata": {
    "id": "UzmZhB5TNRMX"
   },
   "source": [
    "#### cross(): 벡터곱"
   ]
  },
  {
   "cell_type": "code",
   "execution_count": 111,
   "metadata": {
    "id": "xvT2hy1FNRkU"
   },
   "outputs": [
    {
     "name": "stdout",
     "output_type": "stream",
     "text": [
      "[-3  6 -3]\n"
     ]
    }
   ],
   "source": [
    "x = [1, 2, 3]\n",
    "y = [4, 5, 6]\n",
    "print(np.cross(x,y))"
   ]
  },
  {
   "cell_type": "markdown",
   "metadata": {
    "id": "SJVYmtrSO5YL"
   },
   "source": [
    "#### inner()/outer(): 내적/외적"
   ]
  },
  {
   "cell_type": "code",
   "execution_count": 112,
   "metadata": {
    "id": "HJpomax7O5s6"
   },
   "outputs": [
    {
     "name": "stdout",
     "output_type": "stream",
     "text": [
      "[[8 5 9]\n",
      " [7 5 7]\n",
      " [8 7 7]]\n",
      "[[1 1 1]\n",
      " [1 1 1]\n",
      " [1 1 1]]\n",
      "[[22 22 22]\n",
      " [19 19 19]\n",
      " [22 22 22]]\n",
      "[[8 8 8 8 8 8 8 8 8]\n",
      " [5 5 5 5 5 5 5 5 5]\n",
      " [9 9 9 9 9 9 9 9 9]\n",
      " [7 7 7 7 7 7 7 7 7]\n",
      " [5 5 5 5 5 5 5 5 5]\n",
      " [7 7 7 7 7 7 7 7 7]\n",
      " [8 8 8 8 8 8 8 8 8]\n",
      " [7 7 7 7 7 7 7 7 7]\n",
      " [7 7 7 7 7 7 7 7 7]]\n"
     ]
    }
   ],
   "source": [
    "print(a2)\n",
    "print(b2)\n",
    "print(np.inner(a2, b2))\n",
    "print(np.outer(a2, b2))"
   ]
  },
  {
   "cell_type": "markdown",
   "metadata": {
    "id": "9CIotQgI_RQ-"
   },
   "source": [
    "#### mean(): 평균 계산"
   ]
  },
  {
   "cell_type": "code",
   "execution_count": 113,
   "metadata": {
    "id": "g96wAEOT_bUk"
   },
   "outputs": [
    {
     "name": "stdout",
     "output_type": "stream",
     "text": [
      "[[8 5 9]\n",
      " [7 5 7]\n",
      " [8 7 7]]\n",
      "7.0\n",
      "[7.66666667 5.66666667 7.66666667]\n",
      "[7.33333333 6.33333333 7.33333333]\n"
     ]
    }
   ],
   "source": [
    "print(a2)\n",
    "print(np.mean(a2))\n",
    "print(np.mean(a2, axis = 0))\n",
    "print(np.mean(a2, axis = 1))"
   ]
  },
  {
   "cell_type": "markdown",
   "metadata": {
    "id": "wAG_zijP_Z5o"
   },
   "source": [
    "#### std(): 표준 편차 계산"
   ]
  },
  {
   "cell_type": "code",
   "execution_count": 114,
   "metadata": {
    "id": "hlpnuyug_TXA"
   },
   "outputs": [
    {
     "name": "stdout",
     "output_type": "stream",
     "text": [
      "[[8 5 9]\n",
      " [7 5 7]\n",
      " [8 7 7]]\n",
      "1.247219128924647\n",
      "[0.47140452 0.94280904 0.94280904]\n",
      "[1.69967317 0.94280904 0.47140452]\n"
     ]
    }
   ],
   "source": [
    "print(a2)\n",
    "print(np.std(a2))\n",
    "print(np.std(a2, axis = 0))\n",
    "print(np.std(a2, axis = 1))"
   ]
  },
  {
   "cell_type": "markdown",
   "metadata": {
    "id": "5FFTCCDaAEhx"
   },
   "source": [
    "#### var(): 분산 계산"
   ]
  },
  {
   "cell_type": "code",
   "execution_count": 115,
   "metadata": {
    "id": "CRMNkSdzAGZG"
   },
   "outputs": [
    {
     "name": "stdout",
     "output_type": "stream",
     "text": [
      "[[8 5 9]\n",
      " [7 5 7]\n",
      " [8 7 7]]\n",
      "1.5555555555555556\n",
      "[0.22222222 0.88888889 0.88888889]\n",
      "[2.88888889 0.88888889 0.22222222]\n"
     ]
    }
   ],
   "source": [
    "print(a2)\n",
    "print(np.var(a2))\n",
    "print(np.var(a2, axis = 0))\n",
    "print(np.var(a2, axis = 1))"
   ]
  },
  {
   "cell_type": "markdown",
   "metadata": {
    "id": "QFeh-4tmCCrU"
   },
   "source": [
    "#### min(): 최소값"
   ]
  },
  {
   "cell_type": "code",
   "execution_count": 116,
   "metadata": {
    "id": "SMNCfYBQCEtf"
   },
   "outputs": [
    {
     "name": "stdout",
     "output_type": "stream",
     "text": [
      "[[8 5 9]\n",
      " [7 5 7]\n",
      " [8 7 7]]\n",
      "5\n",
      "[7 5 7]\n",
      "[5 5 7]\n"
     ]
    }
   ],
   "source": [
    "print(a2)\n",
    "print(np.min(a2))\n",
    "print(np.min(a2, axis = 0))\n",
    "print(np.min(a2, axis = 1))"
   ]
  },
  {
   "cell_type": "markdown",
   "metadata": {
    "id": "A3n_JBnBJ2bo"
   },
   "source": [
    "#### max(): 최대값"
   ]
  },
  {
   "cell_type": "code",
   "execution_count": 118,
   "metadata": {
    "id": "FmuOFKGAJ6Pf"
   },
   "outputs": [
    {
     "name": "stdout",
     "output_type": "stream",
     "text": [
      "[[8 5 9]\n",
      " [7 5 7]\n",
      " [8 7 7]]\n",
      "9\n",
      "[8 7 9]\n",
      "[9 7 8]\n"
     ]
    }
   ],
   "source": [
    "print(a2)\n",
    "print(np.max(a2))\n",
    "print(np.max(a2, axis = 0))\n",
    "print(np.max(a2, axis = 1))"
   ]
  },
  {
   "cell_type": "markdown",
   "metadata": {
    "id": "PvGOKDP0J_5b"
   },
   "source": [
    "#### argmin(): 최소값 인덱스"
   ]
  },
  {
   "cell_type": "code",
   "execution_count": 119,
   "metadata": {
    "id": "1ILP7L3yKCqA"
   },
   "outputs": [
    {
     "name": "stdout",
     "output_type": "stream",
     "text": [
      "[[8 5 9]\n",
      " [7 5 7]\n",
      " [8 7 7]]\n",
      "1\n",
      "[1 0 1]\n",
      "[1 1 1]\n"
     ]
    }
   ],
   "source": [
    "print(a2)\n",
    "print(np.argmin(a2))\n",
    "print(np.argmin(a2, axis = 0))\n",
    "print(np.argmin(a2, axis = 1))"
   ]
  },
  {
   "cell_type": "markdown",
   "metadata": {
    "id": "23IcSctIKbUa"
   },
   "source": [
    "#### argmax(): 최대값 인덱스"
   ]
  },
  {
   "cell_type": "code",
   "execution_count": 120,
   "metadata": {
    "id": "2m21cfCFKd-Q"
   },
   "outputs": [
    {
     "name": "stdout",
     "output_type": "stream",
     "text": [
      "[[8 5 9]\n",
      " [7 5 7]\n",
      " [8 7 7]]\n",
      "2\n",
      "[0 2 0]\n",
      "[2 0 0]\n"
     ]
    }
   ],
   "source": [
    "print(a2)\n",
    "print(np.argmax(a2))\n",
    "print(np.argmax(a2, axis = 0))\n",
    "print(np.argmax(a2, axis = 1))"
   ]
  },
  {
   "cell_type": "markdown",
   "metadata": {
    "id": "3TjeNFQLKuZb"
   },
   "source": [
    "#### median(): 중앙값"
   ]
  },
  {
   "cell_type": "code",
   "execution_count": 121,
   "metadata": {
    "id": "kSLN17bpKwv6"
   },
   "outputs": [
    {
     "name": "stdout",
     "output_type": "stream",
     "text": [
      "[[8 5 9]\n",
      " [7 5 7]\n",
      " [8 7 7]]\n",
      "7.0\n",
      "[8. 5. 7.]\n",
      "[8. 7. 7.]\n"
     ]
    }
   ],
   "source": [
    "print(a2)\n",
    "print(np.median(a2))\n",
    "print(np.median(a2, axis = 0))\n",
    "print(np.median(a2, axis = 1))"
   ]
  },
  {
   "cell_type": "markdown",
   "metadata": {
    "id": "df-Id-nhLs3L"
   },
   "source": [
    "#### percentile(): 백분위 수\n",
    "\n"
   ]
  },
  {
   "cell_type": "code",
   "execution_count": 122,
   "metadata": {
    "id": "N-TCx9hnLvhK"
   },
   "outputs": [
    {
     "name": "stdout",
     "output_type": "stream",
     "text": [
      "[0 1 2 3]\n",
      "[0.  0.6 1.2 1.8 2.4 3. ]\n",
      "[0 1 2 2 3 3]\n",
      "[0 0 1 1 2 3]\n",
      "[0 1 1 2 2 3]\n",
      "[0.  0.5 1.5 1.5 2.5 3. ]\n"
     ]
    }
   ],
   "source": [
    "a1 = np.array([0, 1, 2, 3])\n",
    "print(a1)\n",
    "print(np.percentile(a1, [0, 20, 40, 60, 80, 100], interpolation='linear'))\n",
    "print(np.percentile(a1, [0, 20, 40, 60, 80, 100], interpolation='higher'))\n",
    "print(np.percentile(a1, [0, 20, 40, 60, 80, 100], interpolation='lower'))\n",
    "print(np.percentile(a1, [0, 20, 40, 60, 80, 100], interpolation='nearest'))\n",
    "print(np.percentile(a1, [0, 20, 40, 60, 80, 100], interpolation='midpoint'))"
   ]
  },
  {
   "cell_type": "markdown",
   "metadata": {
    "id": "x0NnNsvvNDIs"
   },
   "source": [
    "#### any()"
   ]
  },
  {
   "cell_type": "code",
   "execution_count": 123,
   "metadata": {
    "id": "I1XDqsFxOMvA"
   },
   "outputs": [
    {
     "name": "stdout",
     "output_type": "stream",
     "text": [
      "[[False False False]\n",
      " [False  True  True]\n",
      " [False  True  True]]\n",
      "True\n",
      "[False  True  True]\n",
      "[False  True  True]\n"
     ]
    }
   ],
   "source": [
    "a2 = np.array([[False, False, False],\n",
    "              [False, True, True],\n",
    "              [False, True, True]])\n",
    "print(a2)\n",
    "print(np.any(a2))\n",
    "print(np.any(a2, axis=0))\n",
    "print(np.any(a2, axis=1))"
   ]
  },
  {
   "cell_type": "markdown",
   "metadata": {
    "id": "Uw-wjYgyONBZ"
   },
   "source": [
    "#### all()"
   ]
  },
  {
   "cell_type": "code",
   "execution_count": 124,
   "metadata": {
    "id": "sXi2AHOHONYq"
   },
   "outputs": [
    {
     "name": "stdout",
     "output_type": "stream",
     "text": [
      "[[False False  True]\n",
      " [ True  True  True]\n",
      " [False  True  True]]\n",
      "False\n",
      "[False False  True]\n",
      "[False  True False]\n"
     ]
    }
   ],
   "source": [
    "a2 = np.array([[False, False, True],\n",
    "              [True, True, True],\n",
    "              [False, True, True]])\n",
    "print(a2)\n",
    "print(np.all(a2))\n",
    "print(np.all(a2, axis=0))\n",
    "print(np.all(a2, axis=1))"
   ]
  },
  {
   "cell_type": "markdown",
   "metadata": {
    "id": "0n7lgzmUwqr1"
   },
   "source": [
    "### 비교 연산(Comparison Operators)\n",
    "| 연산자 | 비교 범용 함수 |\n",
    "|:--------|:-------------|\n",
    "| `==` | `np.equal` |\n",
    "| `!=` | `np.not_equal` |\n",
    "| `<` | `np.less` |\n",
    "| `<=` | `np.less_equal` |\n",
    "| `>` | `np.greater` |\n",
    "| `>=` | `np.greater_equal` |"
   ]
  },
  {
   "cell_type": "code",
   "execution_count": 126,
   "metadata": {
    "id": "E00V-nBTVnCu"
   },
   "outputs": [
    {
     "name": "stdout",
     "output_type": "stream",
     "text": [
      "[1 2 3 4 5 6 7 8 9]\n",
      "[False False False False  True False False False False]\n",
      "[ True  True  True  True False  True  True  True  True]\n",
      "[ True  True  True  True False False False False False]\n",
      "[ True  True  True  True  True False False False False]\n",
      "[False False False False False  True  True  True  True]\n",
      "[False False False False  True  True  True  True  True]\n"
     ]
    }
   ],
   "source": [
    "a1 = np.arange(1, 10)\n",
    "print(a1)\n",
    "print(a1 == 5)\n",
    "print(a1 != 5)\n",
    "print(a1 < 5)\n",
    "print(a1 <= 5)\n",
    "print(a1 > 5)\n",
    "print(a1 >= 5)"
   ]
  },
  {
   "cell_type": "code",
   "execution_count": null,
   "metadata": {
    "id": "3MwV1CU1WsWS"
   },
   "outputs": [],
   "source": []
  },
  {
   "cell_type": "code",
   "execution_count": null,
   "metadata": {
    "id": "D4cuMoyEPn8R"
   },
   "outputs": [],
   "source": []
  },
  {
   "cell_type": "code",
   "execution_count": 130,
   "metadata": {
    "id": "af9VSc6FyMBh"
   },
   "outputs": [
    {
     "name": "stdout",
     "output_type": "stream",
     "text": [
      "[[1 2 3]\n",
      " [4 5 6]\n",
      " [7 8 9]]\n",
      "45\n",
      "4\n",
      "4\n",
      "[1 1 2]\n",
      "[0 1 3]\n",
      "True\n",
      "[ True  True  True]\n",
      "[False  True  True]\n",
      "False\n",
      "[False False False]\n",
      "[False False  True]\n"
     ]
    }
   ],
   "source": [
    "a2 = np.arange(1, 10).reshape(3, 3)\n",
    "print(a2)\n",
    "print(np.sum(a2))\n",
    "print(np.count_nonzero(a2 > 5))\n",
    "print(np.sum(a2 > 5))\n",
    "print(np.sum(a2 > 5, axis = 0))\n",
    "print(np.sum(a2 > 5, axis = 1))\n",
    "print(np.any(a2 > 5))\n",
    "print(np.any(a2 > 5, axis = 0))\n",
    "print(np.any(a2 > 5, axis = 1))\n",
    "print(np.all(a2 > 5))\n",
    "print(np.all(a2 > 5, axis = 0))\n",
    "print(np.all(a2 > 5, axis = 1))"
   ]
  },
  {
   "cell_type": "markdown",
   "metadata": {},
   "source": [
    "| 비교 범용 함수 | 설명 |\n",
    "|:--------|:-------------|\n",
    "| `np.isclose` | 배열 두개가 (z*1e+02)% 내외로 가까우면 True, 아니면 False |\n",
    "| `np.isinf` | 배열이 inf이면 True, 아니면 False |\n",
    "| `np.isfinite` | 배열이 inf, nan이면 False, 아니면 True |\n",
    "| `np.isnan` | 배열이 nan이면 True, 아니면 False |"
   ]
  },
  {
   "cell_type": "code",
   "execution_count": 133,
   "metadata": {},
   "outputs": [
    {
     "name": "stdout",
     "output_type": "stream",
     "text": [
      "[1 2 3 4 5]\n",
      "[1 2 3 4 5]\n",
      "[ True  True  True  True  True]\n"
     ]
    }
   ],
   "source": [
    "a1 = np.array([1, 2, 3, 4, 5,])\n",
    "print(a1)\n",
    "b1 = np.array([1, 2, 3, 4, 5,])\n",
    "print(b1)\n",
    "print(np.isclose(a1, b1))"
   ]
  },
  {
   "cell_type": "code",
   "execution_count": 135,
   "metadata": {},
   "outputs": [
    {
     "name": "stdout",
     "output_type": "stream",
     "text": [
      "[ nan   2.  inf   4. -inf]\n",
      "[ True False False False False]\n",
      "[False False  True False  True]\n",
      "[False  True False  True False]\n"
     ]
    }
   ],
   "source": [
    "a1 = np.array([np.nan, 2, np.inf, 4, np.NINF])\n",
    "print(a1)\n",
    "print(np.isnan(a1))\n",
    "print(np.isinf(a1))\n",
    "print(np.isfinite(a1))"
   ]
  },
  {
   "cell_type": "markdown",
   "metadata": {
    "id": "4BHMetMlYmt-"
   },
   "source": [
    "#### 불리언 연산자(Boolean Operators)\n",
    "| 연산자 | 비교 범용 함수 |\n",
    "|:--------|:-------------|\n",
    "| `&` | `np.bitwise_and` |\n",
    "| `\\|` | `np.bitwise_or` |\n",
    "| `^` | `np.bitwise_xor` |\n",
    "| `~` | `np.bitwise_not` |"
   ]
  },
  {
   "cell_type": "code",
   "execution_count": 136,
   "metadata": {
    "id": "ZV1-8DkUHOZq"
   },
   "outputs": [
    {
     "name": "stdout",
     "output_type": "stream",
     "text": [
      "[[1 2 3]\n",
      " [4 5 6]\n",
      " [7 8 9]]\n",
      "[[False False False]\n",
      " [False False  True]\n",
      " [ True False False]]\n",
      "[6 7]\n",
      "[[ True  True  True]\n",
      " [ True  True  True]\n",
      " [ True  True  True]]\n",
      "[1 2 3 4 5 6 7 8 9]\n",
      "[[ True  True  True]\n",
      " [ True  True False]\n",
      " [False  True  True]]\n",
      "[1 2 3 4 5 8 9]\n",
      "[[ True  True  True]\n",
      " [ True  True False]\n",
      " [False False False]]\n",
      "[1 2 3 4 5]\n"
     ]
    }
   ],
   "source": [
    "a2 = np.arange(1, 10).reshape(3, 3)\n",
    "print(a2)\n",
    "\n",
    "print((a2 > 5) & (a2 < 8))\n",
    "print(a2[(a2 > 5) & (a2 < 8)])\n",
    "\n",
    "print((a2 > 5) | (a2 < 8))\n",
    "print(a2[(a2 > 5) | (a2 < 8)])\n",
    "\n",
    "print((a2 > 5) ^ (a2 < 8))\n",
    "print(a2[(a2 > 5) ^ (a2 < 8)])\n",
    "\n",
    "print(~(a2 > 5))\n",
    "print(a2[~(a2 > 5)])"
   ]
  },
  {
   "cell_type": "markdown",
   "metadata": {
    "id": "FlQJVeGBxIFw"
   },
   "source": [
    "### 배열 정렬"
   ]
  },
  {
   "cell_type": "code",
   "execution_count": 137,
   "metadata": {
    "id": "x0sodUMqLU37"
   },
   "outputs": [
    {
     "name": "stdout",
     "output_type": "stream",
     "text": [
      "[1 9 8 4 3 5 9 4 9 4]\n",
      "[1 3 4 4 4 5 8 9 9 9]\n",
      "[1 9 8 4 3 5 9 4 9 4]\n",
      "[0 4 3 7 9 5 2 1 6 8]\n",
      "[1 9 8 4 3 5 9 4 9 4]\n"
     ]
    }
   ],
   "source": [
    "a1 = np.random.randint(1, 10, size=10)\n",
    "print(a1)\n",
    "print(np.sort(a1))\n",
    "print(a1)\n",
    "print(np.argsort(a1))\n",
    "print(a1)"
   ]
  },
  {
   "cell_type": "code",
   "execution_count": 139,
   "metadata": {
    "id": "FO_sO5POzeMp"
   },
   "outputs": [
    {
     "name": "stdout",
     "output_type": "stream",
     "text": [
      "[[2 4 2]\n",
      " [1 5 1]\n",
      " [9 1 6]]\n",
      "[[1 1 1]\n",
      " [2 4 2]\n",
      " [9 5 6]]\n",
      "[[2 2 4]\n",
      " [1 1 5]\n",
      " [1 6 9]]\n"
     ]
    }
   ],
   "source": [
    "a2 = np.random.randint(1, 10, size=(3, 3))\n",
    "print(a2)\n",
    "print(np.sort(a2, axis = 0))\n",
    "print(np.sort(a2, axis = 1))"
   ]
  },
  {
   "cell_type": "markdown",
   "metadata": {
    "id": "yYSItPz_00sZ"
   },
   "source": [
    "#### 부분 정렬\n",
    "\n",
    "* `partition()`: 배열에서 k개의 작은 값을 반환"
   ]
  },
  {
   "cell_type": "code",
   "execution_count": 140,
   "metadata": {
    "id": "QQwov4N00YFP"
   },
   "outputs": [
    {
     "name": "stdout",
     "output_type": "stream",
     "text": [
      "[9 7 7 1 6 3 9 5 1 3]\n",
      "[1 1 3 3 5 6 9 7 7 9]\n"
     ]
    }
   ],
   "source": [
    "a1 = np.random.randint(1, 10, size=10)\n",
    "print(a1)\n",
    "print(np.partition(a1, 3))"
   ]
  },
  {
   "cell_type": "code",
   "execution_count": 142,
   "metadata": {},
   "outputs": [
    {
     "name": "stdout",
     "output_type": "stream",
     "text": [
      "[[1 7 6 8 8]\n",
      " [1 9 7 5 3]\n",
      " [6 7 5 1 8]\n",
      " [3 2 3 8 2]\n",
      " [1 5 4 4 1]]\n",
      "[[1 6 7 8 8]\n",
      " [1 3 5 7 9]\n",
      " [1 5 6 7 8]\n",
      " [2 2 3 3 8]\n",
      " [1 1 4 4 5]]\n",
      "[[1 2 3 1 2]\n",
      " [1 5 4 4 1]\n",
      " [1 7 5 5 3]\n",
      " [3 7 6 8 8]\n",
      " [6 9 7 8 8]]\n",
      "[[1 6 7 8 8]\n",
      " [1 3 5 7 9]\n",
      " [1 5 6 7 8]\n",
      " [2 2 3 3 8]\n",
      " [1 1 4 4 5]]\n"
     ]
    }
   ],
   "source": [
    "a2 = np.random.randint(1, 10, size=(5, 5))\n",
    "print(a2)\n",
    "print(np.partition(a2, 3))\n",
    "print(np.partition(a2, 3, axis = 0))\n",
    "print(np.partition(a2, 3, axis = 1))"
   ]
  },
  {
   "cell_type": "markdown",
   "metadata": {
    "id": "77DSA72ML5cI"
   },
   "source": [
    "## 배열 입출력\n",
    "| 함수 | 설명 | 파일 종류 |\n",
    "|:--------|:-------------|------------|\n",
    "| `np.save()` | Numpy 배열 객체 1개를 파일에 저장 | 바이너리 |\n",
    "| `np.savez()` | Numpy 배열 객체 여러개를 파일에 저장 | 바이너리 |\n",
    "| `np.load()` | Numpy 배열 저장 파일로부터 객체 로딩 | 바이너리 |\n",
    "| `np.loadtxt()` | 텍스트 파일로부터 배열 로딩 | 텍스트 |\n",
    "| `np.savetxt()` | 텍스트 파일에 Numpy 배열 객체 저장 | 텍스트 |"
   ]
  },
  {
   "cell_type": "code",
   "execution_count": 143,
   "metadata": {
    "id": "da-Mm_gzIs7U"
   },
   "outputs": [
    {
     "name": "stdout",
     "output_type": "stream",
     "text": [
      "[[7 1 2 7 6]\n",
      " [1 5 2 8 7]\n",
      " [1 9 8 7 6]\n",
      " [3 4 5 4 3]\n",
      " [7 1 3 6 7]]\n"
     ]
    }
   ],
   "source": [
    "a2 = np.random.randint(1, 10, size=(5, 5))\n",
    "print(a2)\n",
    "np.save('a', a2)"
   ]
  },
  {
   "cell_type": "code",
   "execution_count": 146,
   "metadata": {
    "colab": {
     "base_uri": "https://localhost:8080/",
     "height": 34
    },
    "id": "pFOWyDvAsf11",
    "outputId": "8be0a298-07ab-4526-e9d4-2796faadee9a"
   },
   "outputs": [
    {
     "name": "stderr",
     "output_type": "stream",
     "text": [
      "'ls'은(는) 내부 또는 외부 명령, 실행할 수 있는 프로그램, 또는\n",
      "배치 파일이 아닙니다.\n"
     ]
    }
   ],
   "source": [
    "!ls"
   ]
  },
  {
   "cell_type": "code",
   "execution_count": 147,
   "metadata": {
    "id": "Hvb_ilyisoIV"
   },
   "outputs": [
    {
     "name": "stdout",
     "output_type": "stream",
     "text": [
      "[[6 7 5 5 7]\n",
      " [5 7 2 2 3]\n",
      " [8 9 7 3 5]\n",
      " [9 9 1 9 1]\n",
      " [1 3 9 6 4]]\n"
     ]
    }
   ],
   "source": [
    "b2 = np.random.randint(1, 10, size=(5, 5))\n",
    "print(b2)\n",
    "np.savez('ab', a2, b2)"
   ]
  },
  {
   "cell_type": "code",
   "execution_count": 148,
   "metadata": {
    "id": "ArWZfL31s1wU"
   },
   "outputs": [
    {
     "name": "stderr",
     "output_type": "stream",
     "text": [
      "'ls'은(는) 내부 또는 외부 명령, 실행할 수 있는 프로그램, 또는\n",
      "배치 파일이 아닙니다.\n"
     ]
    }
   ],
   "source": [
    "!ls"
   ]
  },
  {
   "cell_type": "code",
   "execution_count": 149,
   "metadata": {
    "id": "che4cEJEs2Tr"
   },
   "outputs": [
    {
     "name": "stdout",
     "output_type": "stream",
     "text": [
      "[[7 1 2 7 6]\n",
      " [1 5 2 8 7]\n",
      " [1 9 8 7 6]\n",
      " [3 4 5 4 3]\n",
      " [7 1 3 6 7]]\n"
     ]
    }
   ],
   "source": [
    "npy = np.load('a.npy')\n",
    "print(npy)"
   ]
  },
  {
   "cell_type": "code",
   "execution_count": 151,
   "metadata": {
    "id": "X2yIUsYvtMj6"
   },
   "outputs": [
    {
     "name": "stdout",
     "output_type": "stream",
     "text": [
      "['arr_0', 'arr_1']\n",
      "[[7 1 2 7 6]\n",
      " [1 5 2 8 7]\n",
      " [1 9 8 7 6]\n",
      " [3 4 5 4 3]\n",
      " [7 1 3 6 7]]\n",
      "[[6 7 5 5 7]\n",
      " [5 7 2 2 3]\n",
      " [8 9 7 3 5]\n",
      " [9 9 1 9 1]\n",
      " [1 3 9 6 4]]\n"
     ]
    }
   ],
   "source": [
    "npz = np.load('ab.npz')\n",
    "print(npz.files)\n",
    "print(npz['arr_0'])\n",
    "print(npz['arr_1'])"
   ]
  },
  {
   "cell_type": "code",
   "execution_count": 152,
   "metadata": {
    "id": "Yj5ec-CYtaH1"
   },
   "outputs": [
    {
     "name": "stdout",
     "output_type": "stream",
     "text": [
      "[[7 1 2 7 6]\n",
      " [1 5 2 8 7]\n",
      " [1 9 8 7 6]\n",
      " [3 4 5 4 3]\n",
      " [7 1 3 6 7]]\n"
     ]
    }
   ],
   "source": [
    "print(a2)\n",
    "np.savetxt('a.csv', a2, delimiter=',')"
   ]
  },
  {
   "cell_type": "code",
   "execution_count": 153,
   "metadata": {
    "id": "_NIDrc-VuPmv"
   },
   "outputs": [
    {
     "name": "stderr",
     "output_type": "stream",
     "text": [
      "'ls'은(는) 내부 또는 외부 명령, 실행할 수 있는 프로그램, 또는\n",
      "배치 파일이 아닙니다.\n"
     ]
    }
   ],
   "source": [
    "!ls"
   ]
  },
  {
   "cell_type": "code",
   "execution_count": 154,
   "metadata": {
    "id": "bPhmIoVBuQMf"
   },
   "outputs": [
    {
     "name": "stderr",
     "output_type": "stream",
     "text": [
      "'cat'은(는) 내부 또는 외부 명령, 실행할 수 있는 프로그램, 또는\n",
      "배치 파일이 아닙니다.\n"
     ]
    }
   ],
   "source": [
    "!cat a.csv"
   ]
  },
  {
   "cell_type": "code",
   "execution_count": 156,
   "metadata": {
    "id": "FeB2p4azuTDv"
   },
   "outputs": [
    {
     "name": "stdout",
     "output_type": "stream",
     "text": [
      "[[7. 1. 2. 7. 6.]\n",
      " [1. 5. 2. 8. 7.]\n",
      " [1. 9. 8. 7. 6.]\n",
      " [3. 4. 5. 4. 3.]\n",
      " [7. 1. 3. 6. 7.]]\n"
     ]
    }
   ],
   "source": [
    "csv = np.loadtxt('a.csv', delimiter=',')\n",
    "print(csv)"
   ]
  },
  {
   "cell_type": "code",
   "execution_count": 157,
   "metadata": {
    "id": "IUg8Vg4fuxR5"
   },
   "outputs": [
    {
     "name": "stdout",
     "output_type": "stream",
     "text": [
      "[[6 7 5 5 7]\n",
      " [5 7 2 2 3]\n",
      " [8 9 7 3 5]\n",
      " [9 9 1 9 1]\n",
      " [1 3 9 6 4]]\n"
     ]
    }
   ],
   "source": [
    "print(b2)\n",
    "np.savetxt('b.csv', b2, delimiter=',', fmt='%.2e', header='c1, c2, c3, c4, c5')"
   ]
  },
  {
   "cell_type": "code",
   "execution_count": 158,
   "metadata": {
    "id": "lIK5dSv6vtm2"
   },
   "outputs": [
    {
     "name": "stderr",
     "output_type": "stream",
     "text": [
      "'cat'은(는) 내부 또는 외부 명령, 실행할 수 있는 프로그램, 또는\n",
      "배치 파일이 아닙니다.\n"
     ]
    }
   ],
   "source": [
    "!cat b.csv"
   ]
  },
  {
   "cell_type": "code",
   "execution_count": 159,
   "metadata": {
    "id": "l4O-gVxdv8-d"
   },
   "outputs": [
    {
     "name": "stdout",
     "output_type": "stream",
     "text": [
      "[[6. 7. 5. 5. 7.]\n",
      " [5. 7. 2. 2. 3.]\n",
      " [8. 9. 7. 3. 5.]\n",
      " [9. 9. 1. 9. 1.]\n",
      " [1. 3. 9. 6. 4.]]\n"
     ]
    }
   ],
   "source": [
    "csv = np.loadtxt('b.csv', delimiter=',')\n",
    "print(csv)"
   ]
  },
  {
   "cell_type": "markdown",
   "metadata": {
    "id": "JM2Ghx2NGloN"
   },
   "source": [
    "\n",
    "\n",
    "---\n",
    "\n"
   ]
  }
 ],
 "metadata": {
  "colab": {
   "collapsed_sections": [],
   "name": "_NumPy 한번에 제대로 배우기.ipynb",
   "provenance": [],
   "toc_visible": true
  },
  "kernelspec": {
   "display_name": "Python 3",
   "language": "python",
   "name": "python3"
  },
  "language_info": {
   "codemirror_mode": {
    "name": "ipython",
    "version": 3
   },
   "file_extension": ".py",
   "mimetype": "text/x-python",
   "name": "python",
   "nbconvert_exporter": "python",
   "pygments_lexer": "ipython3",
   "version": "3.8.8"
  }
 },
 "nbformat": 4,
 "nbformat_minor": 1
}
